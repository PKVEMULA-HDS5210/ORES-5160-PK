{
  "nbformat": 4,
  "nbformat_minor": 0,
  "metadata": {
    "colab": {
      "provenance": [],
      "include_colab_link": true
    },
    "kernelspec": {
      "name": "python3",
      "display_name": "Python 3"
    },
    "language_info": {
      "name": "python"
    }
  },
  "cells": [
    {
      "cell_type": "markdown",
      "metadata": {
        "id": "view-in-github",
        "colab_type": "text"
      },
      "source": [
        "<a href=\"https://colab.research.google.com/github/PKVEMULA-HDS5210/ORES-5160-PK/blob/main/final/final.ipynb\" target=\"_parent\"><img src=\"https://colab.research.google.com/assets/colab-badge.svg\" alt=\"Open In Colab\"/></a>"
      ]
    },
    {
      "cell_type": "markdown",
      "source": [
        "**FINAL PROJECT BACKGROUND**\n",
        "\n",
        "Being a pharmacy student, I have knowledge about the dataset through my research interest, also involvement in projects related to public health, epidemiology, and healthcare data analysis.The dataset is originated from the Behavioral Risk Factor Surveillance System (BRFSS), a comprehensive annual telephone survey conducted by the Centers for Disease Control and Prevention (CDC). The BRFSS dataset, comprising 2022 annual survey data of over 400,000 U.S. adults, specifically addresses key indicators of heart disease and associated risk factors.\n",
        "\n",
        "The dataset covers a range of variables related to heart disease risk, including high blood pressure, high cholesterol, smoking habits, diabetes status, obesity, physical activity levels, and alcohol consumption. These variables are crucial in identifying and understanding the factors that significantly impact heart disease, which is a leading cause of mortality across various racial groups in the U.S.\n",
        "\n",
        "For instance, the dataset includes information on whether respondents have had a heart attack (\"HadHeartAttack\"), treated as a binary variable (\"Yes\" or \"No\"). This binary classification allows for the exploration of factors influencing the likelihood of heart disease.\n",
        "\n",
        "The dataset has undergone a significant curation process, where the original set of nearly 300 variables was narrowed down to 40 relevant variables for analysis. This reduction facilitates more focused and targeted exploratory data analysis (EDA) and opens avenues for applying machine learning methods, particularly classifier models like logistic regression, SVM, and random forest.\n",
        "\n",
        "\n",
        "\n",
        "**Problem Statement:**\n",
        "Cardiovascular diseases (CVDs) are a leading cause of global morbidity and mortality. The traditional methods of diagnosing and managing heart conditions often lack precision and real-time insights. Additionally, the sheer volume and complexity of heart-related data generated from various sources, such as wearable devices, electronic health records, and medical imaging, create challenges in harnessing valuable information for personalized care.\n",
        "\n",
        "\n",
        "**DATASETS USED:**\n",
        "\n",
        "heart_dataset.csv as CSV file copied from the source.\n",
        "\n",
        "\n",
        "\n",
        "\n",
        "https://www.kaggle.com/datasets/kamilpytlak/personal-key-indicators-of-heart-disease/data retrived from source.\n",
        "\n",
        "\n",
        "https://data.cdc.gov/api/views/uc9k-vc2j/rows.json?accessType=DOWNLOAD downloaded from source.\n",
        "\n",
        "\n",
        "\n"
      ],
      "metadata": {
        "id": "wDyyftyM05t6"
      }
    },
    {
      "cell_type": "code",
      "execution_count": 35,
      "metadata": {
        "id": "XhoGbq0YaPUT"
      },
      "outputs": [],
      "source": [
        "import pandas as pd\n",
        "import numpy as np\n",
        "import matplotlib as mpl\n",
        "import matplotlib.pyplot as plt\n",
        "%matplotlib inline\n",
        "import seaborn as sns\n",
        "import missingno as msno\n",
        "from scipy import stats"
      ]
    },
    {
      "cell_type": "markdown",
      "source": [
        "### **import multiple datasets**\n",
        "\n",
        "The process of importing multiple datasets from different sources and merging them into a single DataFrame using Python's Pandas library.\n",
        "The first dataset, related to heart disease, is read from a CSV file using Pandas and stored in the heart_disease_data DataFrame.Then a URL pointing to the CDC API, specifically to a JSON representation of the dataset. It then uses the requests.get method to fetch the data from the URL.\n",
        "\n",
        "\n",
        "In summary, this code reads a heart disease dataset from a CSV file, fetches another dataset from the CDC API in JSON format, and merges them into a single DataFrame (df). This can be useful when combining information from different sources for comprehensive analysis."
      ],
      "metadata": {
        "id": "dmpvnXjEBAxT"
      }
    },
    {
      "cell_type": "code",
      "source": [
        "heart_disease_data = pd.read_csv(\"/content/heart_dataset.csv\")"
      ],
      "metadata": {
        "id": "OC8DCiZgcAta"
      },
      "execution_count": 36,
      "outputs": []
    },
    {
      "cell_type": "code",
      "source": [
        "import requests\n",
        "import json\n",
        "import pandas as pd\n",
        "\n",
        "url = \"https://data.cdc.gov/api/views/uc9k-vc2j/rows.json?accessType=DOWNLOAD\"\n",
        "\n",
        "response = requests.get(url)\n",
        "\n",
        "if response.status_code == 200:\n",
        "    data = response.json()\n",
        "\n",
        "    columns = data['meta']['view']['columns']\n",
        "    rows = data['data']\n",
        "\n",
        "    df = pd.DataFrame(rows, columns=[col['name'] for col in columns])\n",
        "\n",
        "else:\n",
        "    print(f\"Error: Unable to fetch data. Status code: {response.status_code}\")\n"
      ],
      "metadata": {
        "id": "oTMFovIq49Ay"
      },
      "execution_count": 37,
      "outputs": []
    },
    {
      "cell_type": "code",
      "source": [
        "df.head(5)"
      ],
      "metadata": {
        "colab": {
          "base_uri": "https://localhost:8080/",
          "height": 429
        },
        "id": "iiU_pUhQ5mb2",
        "outputId": "93173580-aaf7-44e9-9384-aa27aefa3b30"
      },
      "execution_count": 38,
      "outputs": [
        {
          "output_type": "execute_result",
          "data": {
            "text/plain": [
              "                  sid                                    id  position  \\\n",
              "0  row-wpdw-zy3s.qt83  00000000-0000-0000-C42D-451E70333550         0   \n",
              "1  row-uf7n~5zpy-pgwu  00000000-0000-0000-78CB-31D19871E204         0   \n",
              "2  row-ubhu~pwqd_t45e  00000000-0000-0000-0F92-FE6FE0F0880C         0   \n",
              "3  row-2ins-eace-qnru  00000000-0000-0000-5D11-EB9D14CCE12B         0   \n",
              "4  row-mcvc~x6dk_defb  00000000-0000-0000-6475-220925B04CD9         0   \n",
              "\n",
              "   created_at created_meta  updated_at updated_meta meta LocationID  Year  \\\n",
              "0  1644345959         None  1644345959         None  { }      01001  2000   \n",
              "1  1644345959         None  1644345959         None  { }      01001  2001   \n",
              "2  1644345959         None  1644345959         None  { }      01001  2002   \n",
              "3  1644345959         None  1644345959         None  { }      01001  2003   \n",
              "4  1644345959         None  1644345959         None  { }      01001  2004   \n",
              "\n",
              "   ... Confidence_limit_High StratificationCategory1   Stratification1  \\\n",
              "0  ...                  None               Age group  Ages 35-64 years   \n",
              "1  ...                  None               Age group  Ages 35-64 years   \n",
              "2  ...                  None               Age group  Ages 35-64 years   \n",
              "3  ...                  None               Age group  Ages 35-64 years   \n",
              "4  ...                  None               Age group  Ages 35-64 years   \n",
              "\n",
              "   StratificationCategory2                    Stratification2  \\\n",
              "0  Race/EthnicityAge group  American Indian and Alaska Native   \n",
              "1  Race/EthnicityAge group  American Indian and Alaska Native   \n",
              "2  Race/EthnicityAge group  American Indian and Alaska Native   \n",
              "3  Race/EthnicityAge group  American Indian and Alaska Native   \n",
              "4  Race/EthnicityAge group  American Indian and Alaska Native   \n",
              "\n",
              "  StratificationCategory3 Stratification3 TopicID        X_long        Y_lat  \n",
              "0                     Sex         Overall      T1  -86.64295911  32.53530561  \n",
              "1                     Sex         Overall      T1  -86.64295911  32.53530561  \n",
              "2                     Sex         Overall      T1  -86.64295911  32.53530561  \n",
              "3                     Sex         Overall      T1  -86.64295911  32.53530561  \n",
              "4                     Sex         Overall      T1  -86.64295911  32.53530561  \n",
              "\n",
              "[5 rows x 32 columns]"
            ],
            "text/html": [
              "\n",
              "  <div id=\"df-157e6b6b-dca8-49c0-93d8-c8e0157461c5\" class=\"colab-df-container\">\n",
              "    <div>\n",
              "<style scoped>\n",
              "    .dataframe tbody tr th:only-of-type {\n",
              "        vertical-align: middle;\n",
              "    }\n",
              "\n",
              "    .dataframe tbody tr th {\n",
              "        vertical-align: top;\n",
              "    }\n",
              "\n",
              "    .dataframe thead th {\n",
              "        text-align: right;\n",
              "    }\n",
              "</style>\n",
              "<table border=\"1\" class=\"dataframe\">\n",
              "  <thead>\n",
              "    <tr style=\"text-align: right;\">\n",
              "      <th></th>\n",
              "      <th>sid</th>\n",
              "      <th>id</th>\n",
              "      <th>position</th>\n",
              "      <th>created_at</th>\n",
              "      <th>created_meta</th>\n",
              "      <th>updated_at</th>\n",
              "      <th>updated_meta</th>\n",
              "      <th>meta</th>\n",
              "      <th>LocationID</th>\n",
              "      <th>Year</th>\n",
              "      <th>...</th>\n",
              "      <th>Confidence_limit_High</th>\n",
              "      <th>StratificationCategory1</th>\n",
              "      <th>Stratification1</th>\n",
              "      <th>StratificationCategory2</th>\n",
              "      <th>Stratification2</th>\n",
              "      <th>StratificationCategory3</th>\n",
              "      <th>Stratification3</th>\n",
              "      <th>TopicID</th>\n",
              "      <th>X_long</th>\n",
              "      <th>Y_lat</th>\n",
              "    </tr>\n",
              "  </thead>\n",
              "  <tbody>\n",
              "    <tr>\n",
              "      <th>0</th>\n",
              "      <td>row-wpdw-zy3s.qt83</td>\n",
              "      <td>00000000-0000-0000-C42D-451E70333550</td>\n",
              "      <td>0</td>\n",
              "      <td>1644345959</td>\n",
              "      <td>None</td>\n",
              "      <td>1644345959</td>\n",
              "      <td>None</td>\n",
              "      <td>{ }</td>\n",
              "      <td>01001</td>\n",
              "      <td>2000</td>\n",
              "      <td>...</td>\n",
              "      <td>None</td>\n",
              "      <td>Age group</td>\n",
              "      <td>Ages 35-64 years</td>\n",
              "      <td>Race/EthnicityAge group</td>\n",
              "      <td>American Indian and Alaska Native</td>\n",
              "      <td>Sex</td>\n",
              "      <td>Overall</td>\n",
              "      <td>T1</td>\n",
              "      <td>-86.64295911</td>\n",
              "      <td>32.53530561</td>\n",
              "    </tr>\n",
              "    <tr>\n",
              "      <th>1</th>\n",
              "      <td>row-uf7n~5zpy-pgwu</td>\n",
              "      <td>00000000-0000-0000-78CB-31D19871E204</td>\n",
              "      <td>0</td>\n",
              "      <td>1644345959</td>\n",
              "      <td>None</td>\n",
              "      <td>1644345959</td>\n",
              "      <td>None</td>\n",
              "      <td>{ }</td>\n",
              "      <td>01001</td>\n",
              "      <td>2001</td>\n",
              "      <td>...</td>\n",
              "      <td>None</td>\n",
              "      <td>Age group</td>\n",
              "      <td>Ages 35-64 years</td>\n",
              "      <td>Race/EthnicityAge group</td>\n",
              "      <td>American Indian and Alaska Native</td>\n",
              "      <td>Sex</td>\n",
              "      <td>Overall</td>\n",
              "      <td>T1</td>\n",
              "      <td>-86.64295911</td>\n",
              "      <td>32.53530561</td>\n",
              "    </tr>\n",
              "    <tr>\n",
              "      <th>2</th>\n",
              "      <td>row-ubhu~pwqd_t45e</td>\n",
              "      <td>00000000-0000-0000-0F92-FE6FE0F0880C</td>\n",
              "      <td>0</td>\n",
              "      <td>1644345959</td>\n",
              "      <td>None</td>\n",
              "      <td>1644345959</td>\n",
              "      <td>None</td>\n",
              "      <td>{ }</td>\n",
              "      <td>01001</td>\n",
              "      <td>2002</td>\n",
              "      <td>...</td>\n",
              "      <td>None</td>\n",
              "      <td>Age group</td>\n",
              "      <td>Ages 35-64 years</td>\n",
              "      <td>Race/EthnicityAge group</td>\n",
              "      <td>American Indian and Alaska Native</td>\n",
              "      <td>Sex</td>\n",
              "      <td>Overall</td>\n",
              "      <td>T1</td>\n",
              "      <td>-86.64295911</td>\n",
              "      <td>32.53530561</td>\n",
              "    </tr>\n",
              "    <tr>\n",
              "      <th>3</th>\n",
              "      <td>row-2ins-eace-qnru</td>\n",
              "      <td>00000000-0000-0000-5D11-EB9D14CCE12B</td>\n",
              "      <td>0</td>\n",
              "      <td>1644345959</td>\n",
              "      <td>None</td>\n",
              "      <td>1644345959</td>\n",
              "      <td>None</td>\n",
              "      <td>{ }</td>\n",
              "      <td>01001</td>\n",
              "      <td>2003</td>\n",
              "      <td>...</td>\n",
              "      <td>None</td>\n",
              "      <td>Age group</td>\n",
              "      <td>Ages 35-64 years</td>\n",
              "      <td>Race/EthnicityAge group</td>\n",
              "      <td>American Indian and Alaska Native</td>\n",
              "      <td>Sex</td>\n",
              "      <td>Overall</td>\n",
              "      <td>T1</td>\n",
              "      <td>-86.64295911</td>\n",
              "      <td>32.53530561</td>\n",
              "    </tr>\n",
              "    <tr>\n",
              "      <th>4</th>\n",
              "      <td>row-mcvc~x6dk_defb</td>\n",
              "      <td>00000000-0000-0000-6475-220925B04CD9</td>\n",
              "      <td>0</td>\n",
              "      <td>1644345959</td>\n",
              "      <td>None</td>\n",
              "      <td>1644345959</td>\n",
              "      <td>None</td>\n",
              "      <td>{ }</td>\n",
              "      <td>01001</td>\n",
              "      <td>2004</td>\n",
              "      <td>...</td>\n",
              "      <td>None</td>\n",
              "      <td>Age group</td>\n",
              "      <td>Ages 35-64 years</td>\n",
              "      <td>Race/EthnicityAge group</td>\n",
              "      <td>American Indian and Alaska Native</td>\n",
              "      <td>Sex</td>\n",
              "      <td>Overall</td>\n",
              "      <td>T1</td>\n",
              "      <td>-86.64295911</td>\n",
              "      <td>32.53530561</td>\n",
              "    </tr>\n",
              "  </tbody>\n",
              "</table>\n",
              "<p>5 rows × 32 columns</p>\n",
              "</div>\n",
              "    <div class=\"colab-df-buttons\">\n",
              "\n",
              "  <div class=\"colab-df-container\">\n",
              "    <button class=\"colab-df-convert\" onclick=\"convertToInteractive('df-157e6b6b-dca8-49c0-93d8-c8e0157461c5')\"\n",
              "            title=\"Convert this dataframe to an interactive table.\"\n",
              "            style=\"display:none;\">\n",
              "\n",
              "  <svg xmlns=\"http://www.w3.org/2000/svg\" height=\"24px\" viewBox=\"0 -960 960 960\">\n",
              "    <path d=\"M120-120v-720h720v720H120Zm60-500h600v-160H180v160Zm220 220h160v-160H400v160Zm0 220h160v-160H400v160ZM180-400h160v-160H180v160Zm440 0h160v-160H620v160ZM180-180h160v-160H180v160Zm440 0h160v-160H620v160Z\"/>\n",
              "  </svg>\n",
              "    </button>\n",
              "\n",
              "  <style>\n",
              "    .colab-df-container {\n",
              "      display:flex;\n",
              "      gap: 12px;\n",
              "    }\n",
              "\n",
              "    .colab-df-convert {\n",
              "      background-color: #E8F0FE;\n",
              "      border: none;\n",
              "      border-radius: 50%;\n",
              "      cursor: pointer;\n",
              "      display: none;\n",
              "      fill: #1967D2;\n",
              "      height: 32px;\n",
              "      padding: 0 0 0 0;\n",
              "      width: 32px;\n",
              "    }\n",
              "\n",
              "    .colab-df-convert:hover {\n",
              "      background-color: #E2EBFA;\n",
              "      box-shadow: 0px 1px 2px rgba(60, 64, 67, 0.3), 0px 1px 3px 1px rgba(60, 64, 67, 0.15);\n",
              "      fill: #174EA6;\n",
              "    }\n",
              "\n",
              "    .colab-df-buttons div {\n",
              "      margin-bottom: 4px;\n",
              "    }\n",
              "\n",
              "    [theme=dark] .colab-df-convert {\n",
              "      background-color: #3B4455;\n",
              "      fill: #D2E3FC;\n",
              "    }\n",
              "\n",
              "    [theme=dark] .colab-df-convert:hover {\n",
              "      background-color: #434B5C;\n",
              "      box-shadow: 0px 1px 3px 1px rgba(0, 0, 0, 0.15);\n",
              "      filter: drop-shadow(0px 1px 2px rgba(0, 0, 0, 0.3));\n",
              "      fill: #FFFFFF;\n",
              "    }\n",
              "  </style>\n",
              "\n",
              "    <script>\n",
              "      const buttonEl =\n",
              "        document.querySelector('#df-157e6b6b-dca8-49c0-93d8-c8e0157461c5 button.colab-df-convert');\n",
              "      buttonEl.style.display =\n",
              "        google.colab.kernel.accessAllowed ? 'block' : 'none';\n",
              "\n",
              "      async function convertToInteractive(key) {\n",
              "        const element = document.querySelector('#df-157e6b6b-dca8-49c0-93d8-c8e0157461c5');\n",
              "        const dataTable =\n",
              "          await google.colab.kernel.invokeFunction('convertToInteractive',\n",
              "                                                    [key], {});\n",
              "        if (!dataTable) return;\n",
              "\n",
              "        const docLinkHtml = 'Like what you see? Visit the ' +\n",
              "          '<a target=\"_blank\" href=https://colab.research.google.com/notebooks/data_table.ipynb>data table notebook</a>'\n",
              "          + ' to learn more about interactive tables.';\n",
              "        element.innerHTML = '';\n",
              "        dataTable['output_type'] = 'display_data';\n",
              "        await google.colab.output.renderOutput(dataTable, element);\n",
              "        const docLink = document.createElement('div');\n",
              "        docLink.innerHTML = docLinkHtml;\n",
              "        element.appendChild(docLink);\n",
              "      }\n",
              "    </script>\n",
              "  </div>\n",
              "\n",
              "\n",
              "<div id=\"df-91fe0aba-bfef-4c60-ad2b-030e635d564e\">\n",
              "  <button class=\"colab-df-quickchart\" onclick=\"quickchart('df-91fe0aba-bfef-4c60-ad2b-030e635d564e')\"\n",
              "            title=\"Suggest charts\"\n",
              "            style=\"display:none;\">\n",
              "\n",
              "<svg xmlns=\"http://www.w3.org/2000/svg\" height=\"24px\"viewBox=\"0 0 24 24\"\n",
              "     width=\"24px\">\n",
              "    <g>\n",
              "        <path d=\"M19 3H5c-1.1 0-2 .9-2 2v14c0 1.1.9 2 2 2h14c1.1 0 2-.9 2-2V5c0-1.1-.9-2-2-2zM9 17H7v-7h2v7zm4 0h-2V7h2v10zm4 0h-2v-4h2v4z\"/>\n",
              "    </g>\n",
              "</svg>\n",
              "  </button>\n",
              "\n",
              "<style>\n",
              "  .colab-df-quickchart {\n",
              "      --bg-color: #E8F0FE;\n",
              "      --fill-color: #1967D2;\n",
              "      --hover-bg-color: #E2EBFA;\n",
              "      --hover-fill-color: #174EA6;\n",
              "      --disabled-fill-color: #AAA;\n",
              "      --disabled-bg-color: #DDD;\n",
              "  }\n",
              "\n",
              "  [theme=dark] .colab-df-quickchart {\n",
              "      --bg-color: #3B4455;\n",
              "      --fill-color: #D2E3FC;\n",
              "      --hover-bg-color: #434B5C;\n",
              "      --hover-fill-color: #FFFFFF;\n",
              "      --disabled-bg-color: #3B4455;\n",
              "      --disabled-fill-color: #666;\n",
              "  }\n",
              "\n",
              "  .colab-df-quickchart {\n",
              "    background-color: var(--bg-color);\n",
              "    border: none;\n",
              "    border-radius: 50%;\n",
              "    cursor: pointer;\n",
              "    display: none;\n",
              "    fill: var(--fill-color);\n",
              "    height: 32px;\n",
              "    padding: 0;\n",
              "    width: 32px;\n",
              "  }\n",
              "\n",
              "  .colab-df-quickchart:hover {\n",
              "    background-color: var(--hover-bg-color);\n",
              "    box-shadow: 0 1px 2px rgba(60, 64, 67, 0.3), 0 1px 3px 1px rgba(60, 64, 67, 0.15);\n",
              "    fill: var(--button-hover-fill-color);\n",
              "  }\n",
              "\n",
              "  .colab-df-quickchart-complete:disabled,\n",
              "  .colab-df-quickchart-complete:disabled:hover {\n",
              "    background-color: var(--disabled-bg-color);\n",
              "    fill: var(--disabled-fill-color);\n",
              "    box-shadow: none;\n",
              "  }\n",
              "\n",
              "  .colab-df-spinner {\n",
              "    border: 2px solid var(--fill-color);\n",
              "    border-color: transparent;\n",
              "    border-bottom-color: var(--fill-color);\n",
              "    animation:\n",
              "      spin 1s steps(1) infinite;\n",
              "  }\n",
              "\n",
              "  @keyframes spin {\n",
              "    0% {\n",
              "      border-color: transparent;\n",
              "      border-bottom-color: var(--fill-color);\n",
              "      border-left-color: var(--fill-color);\n",
              "    }\n",
              "    20% {\n",
              "      border-color: transparent;\n",
              "      border-left-color: var(--fill-color);\n",
              "      border-top-color: var(--fill-color);\n",
              "    }\n",
              "    30% {\n",
              "      border-color: transparent;\n",
              "      border-left-color: var(--fill-color);\n",
              "      border-top-color: var(--fill-color);\n",
              "      border-right-color: var(--fill-color);\n",
              "    }\n",
              "    40% {\n",
              "      border-color: transparent;\n",
              "      border-right-color: var(--fill-color);\n",
              "      border-top-color: var(--fill-color);\n",
              "    }\n",
              "    60% {\n",
              "      border-color: transparent;\n",
              "      border-right-color: var(--fill-color);\n",
              "    }\n",
              "    80% {\n",
              "      border-color: transparent;\n",
              "      border-right-color: var(--fill-color);\n",
              "      border-bottom-color: var(--fill-color);\n",
              "    }\n",
              "    90% {\n",
              "      border-color: transparent;\n",
              "      border-bottom-color: var(--fill-color);\n",
              "    }\n",
              "  }\n",
              "</style>\n",
              "\n",
              "  <script>\n",
              "    async function quickchart(key) {\n",
              "      const quickchartButtonEl =\n",
              "        document.querySelector('#' + key + ' button');\n",
              "      quickchartButtonEl.disabled = true;  // To prevent multiple clicks.\n",
              "      quickchartButtonEl.classList.add('colab-df-spinner');\n",
              "      try {\n",
              "        const charts = await google.colab.kernel.invokeFunction(\n",
              "            'suggestCharts', [key], {});\n",
              "      } catch (error) {\n",
              "        console.error('Error during call to suggestCharts:', error);\n",
              "      }\n",
              "      quickchartButtonEl.classList.remove('colab-df-spinner');\n",
              "      quickchartButtonEl.classList.add('colab-df-quickchart-complete');\n",
              "    }\n",
              "    (() => {\n",
              "      let quickchartButtonEl =\n",
              "        document.querySelector('#df-91fe0aba-bfef-4c60-ad2b-030e635d564e button');\n",
              "      quickchartButtonEl.style.display =\n",
              "        google.colab.kernel.accessAllowed ? 'block' : 'none';\n",
              "    })();\n",
              "  </script>\n",
              "</div>\n",
              "    </div>\n",
              "  </div>\n"
            ]
          },
          "metadata": {},
          "execution_count": 38
        }
      ]
    },
    {
      "cell_type": "code",
      "source": [
        "df.shape"
      ],
      "metadata": {
        "colab": {
          "base_uri": "https://localhost:8080/"
        },
        "id": "62Av5bf16YVp",
        "outputId": "65bb2566-cdab-40e0-97ee-2ec8f62af700"
      },
      "execution_count": 39,
      "outputs": [
        {
          "output_type": "execute_result",
          "data": {
            "text/plain": [
              "(1103872, 32)"
            ]
          },
          "metadata": {},
          "execution_count": 39
        }
      ]
    },
    {
      "cell_type": "markdown",
      "source": [
        "### Merging datasets"
      ],
      "metadata": {
        "id": "GmIIELW5BE6J"
      }
    },
    {
      "cell_type": "code",
      "source": [
        "heart_disease_data = pd.concat([heart_disease_data.iloc[:319795, :], df.iloc[:319795, :]], axis=1)\n",
        "\n",
        "print(heart_disease_data.shape)"
      ],
      "metadata": {
        "colab": {
          "base_uri": "https://localhost:8080/"
        },
        "id": "k7ZG-NTU7Mpl",
        "outputId": "a72cc353-709a-4937-9482-c5b777540a75"
      },
      "execution_count": 40,
      "outputs": [
        {
          "output_type": "stream",
          "name": "stdout",
          "text": [
            "(319795, 50)\n"
          ]
        }
      ]
    },
    {
      "cell_type": "code",
      "source": [
        "heart_disease_data.head(5)"
      ],
      "metadata": {
        "colab": {
          "base_uri": "https://localhost:8080/",
          "height": 342
        },
        "id": "6GOerI7Gcdrf",
        "outputId": "234600c5-7431-48db-a627-7004de9e79ee"
      },
      "execution_count": 41,
      "outputs": [
        {
          "output_type": "execute_result",
          "data": {
            "text/plain": [
              "  HeartDisease    BMI Smoking AlcoholDrinking Stroke  PhysicalHealth  \\\n",
              "0           No  16.60     Yes              No     No             3.0   \n",
              "1           No  20.34      No              No    Yes             0.0   \n",
              "2           No  26.58     Yes              No     No            20.0   \n",
              "3           No  24.21      No              No     No             0.0   \n",
              "4           No  23.71      No              No     No            28.0   \n",
              "\n",
              "   MentalHealth DiffWalking     Sex  AgeCategory  ... Confidence_limit_High  \\\n",
              "0          30.0          No  Female        55-59  ...                  None   \n",
              "1           0.0          No  Female  80 or older  ...                  None   \n",
              "2          30.0          No    Male        65-69  ...                  None   \n",
              "3           0.0          No  Female        75-79  ...                  None   \n",
              "4           0.0         Yes  Female        40-44  ...                  None   \n",
              "\n",
              "  StratificationCategory1   Stratification1  StratificationCategory2  \\\n",
              "0               Age group  Ages 35-64 years  Race/EthnicityAge group   \n",
              "1               Age group  Ages 35-64 years  Race/EthnicityAge group   \n",
              "2               Age group  Ages 35-64 years  Race/EthnicityAge group   \n",
              "3               Age group  Ages 35-64 years  Race/EthnicityAge group   \n",
              "4               Age group  Ages 35-64 years  Race/EthnicityAge group   \n",
              "\n",
              "                     Stratification2 StratificationCategory3 Stratification3  \\\n",
              "0  American Indian and Alaska Native                     Sex         Overall   \n",
              "1  American Indian and Alaska Native                     Sex         Overall   \n",
              "2  American Indian and Alaska Native                     Sex         Overall   \n",
              "3  American Indian and Alaska Native                     Sex         Overall   \n",
              "4  American Indian and Alaska Native                     Sex         Overall   \n",
              "\n",
              "  TopicID        X_long        Y_lat  \n",
              "0      T1  -86.64295911  32.53530561  \n",
              "1      T1  -86.64295911  32.53530561  \n",
              "2      T1  -86.64295911  32.53530561  \n",
              "3      T1  -86.64295911  32.53530561  \n",
              "4      T1  -86.64295911  32.53530561  \n",
              "\n",
              "[5 rows x 50 columns]"
            ],
            "text/html": [
              "\n",
              "  <div id=\"df-40dff088-e54f-462b-9557-228827d0a94c\" class=\"colab-df-container\">\n",
              "    <div>\n",
              "<style scoped>\n",
              "    .dataframe tbody tr th:only-of-type {\n",
              "        vertical-align: middle;\n",
              "    }\n",
              "\n",
              "    .dataframe tbody tr th {\n",
              "        vertical-align: top;\n",
              "    }\n",
              "\n",
              "    .dataframe thead th {\n",
              "        text-align: right;\n",
              "    }\n",
              "</style>\n",
              "<table border=\"1\" class=\"dataframe\">\n",
              "  <thead>\n",
              "    <tr style=\"text-align: right;\">\n",
              "      <th></th>\n",
              "      <th>HeartDisease</th>\n",
              "      <th>BMI</th>\n",
              "      <th>Smoking</th>\n",
              "      <th>AlcoholDrinking</th>\n",
              "      <th>Stroke</th>\n",
              "      <th>PhysicalHealth</th>\n",
              "      <th>MentalHealth</th>\n",
              "      <th>DiffWalking</th>\n",
              "      <th>Sex</th>\n",
              "      <th>AgeCategory</th>\n",
              "      <th>...</th>\n",
              "      <th>Confidence_limit_High</th>\n",
              "      <th>StratificationCategory1</th>\n",
              "      <th>Stratification1</th>\n",
              "      <th>StratificationCategory2</th>\n",
              "      <th>Stratification2</th>\n",
              "      <th>StratificationCategory3</th>\n",
              "      <th>Stratification3</th>\n",
              "      <th>TopicID</th>\n",
              "      <th>X_long</th>\n",
              "      <th>Y_lat</th>\n",
              "    </tr>\n",
              "  </thead>\n",
              "  <tbody>\n",
              "    <tr>\n",
              "      <th>0</th>\n",
              "      <td>No</td>\n",
              "      <td>16.60</td>\n",
              "      <td>Yes</td>\n",
              "      <td>No</td>\n",
              "      <td>No</td>\n",
              "      <td>3.0</td>\n",
              "      <td>30.0</td>\n",
              "      <td>No</td>\n",
              "      <td>Female</td>\n",
              "      <td>55-59</td>\n",
              "      <td>...</td>\n",
              "      <td>None</td>\n",
              "      <td>Age group</td>\n",
              "      <td>Ages 35-64 years</td>\n",
              "      <td>Race/EthnicityAge group</td>\n",
              "      <td>American Indian and Alaska Native</td>\n",
              "      <td>Sex</td>\n",
              "      <td>Overall</td>\n",
              "      <td>T1</td>\n",
              "      <td>-86.64295911</td>\n",
              "      <td>32.53530561</td>\n",
              "    </tr>\n",
              "    <tr>\n",
              "      <th>1</th>\n",
              "      <td>No</td>\n",
              "      <td>20.34</td>\n",
              "      <td>No</td>\n",
              "      <td>No</td>\n",
              "      <td>Yes</td>\n",
              "      <td>0.0</td>\n",
              "      <td>0.0</td>\n",
              "      <td>No</td>\n",
              "      <td>Female</td>\n",
              "      <td>80 or older</td>\n",
              "      <td>...</td>\n",
              "      <td>None</td>\n",
              "      <td>Age group</td>\n",
              "      <td>Ages 35-64 years</td>\n",
              "      <td>Race/EthnicityAge group</td>\n",
              "      <td>American Indian and Alaska Native</td>\n",
              "      <td>Sex</td>\n",
              "      <td>Overall</td>\n",
              "      <td>T1</td>\n",
              "      <td>-86.64295911</td>\n",
              "      <td>32.53530561</td>\n",
              "    </tr>\n",
              "    <tr>\n",
              "      <th>2</th>\n",
              "      <td>No</td>\n",
              "      <td>26.58</td>\n",
              "      <td>Yes</td>\n",
              "      <td>No</td>\n",
              "      <td>No</td>\n",
              "      <td>20.0</td>\n",
              "      <td>30.0</td>\n",
              "      <td>No</td>\n",
              "      <td>Male</td>\n",
              "      <td>65-69</td>\n",
              "      <td>...</td>\n",
              "      <td>None</td>\n",
              "      <td>Age group</td>\n",
              "      <td>Ages 35-64 years</td>\n",
              "      <td>Race/EthnicityAge group</td>\n",
              "      <td>American Indian and Alaska Native</td>\n",
              "      <td>Sex</td>\n",
              "      <td>Overall</td>\n",
              "      <td>T1</td>\n",
              "      <td>-86.64295911</td>\n",
              "      <td>32.53530561</td>\n",
              "    </tr>\n",
              "    <tr>\n",
              "      <th>3</th>\n",
              "      <td>No</td>\n",
              "      <td>24.21</td>\n",
              "      <td>No</td>\n",
              "      <td>No</td>\n",
              "      <td>No</td>\n",
              "      <td>0.0</td>\n",
              "      <td>0.0</td>\n",
              "      <td>No</td>\n",
              "      <td>Female</td>\n",
              "      <td>75-79</td>\n",
              "      <td>...</td>\n",
              "      <td>None</td>\n",
              "      <td>Age group</td>\n",
              "      <td>Ages 35-64 years</td>\n",
              "      <td>Race/EthnicityAge group</td>\n",
              "      <td>American Indian and Alaska Native</td>\n",
              "      <td>Sex</td>\n",
              "      <td>Overall</td>\n",
              "      <td>T1</td>\n",
              "      <td>-86.64295911</td>\n",
              "      <td>32.53530561</td>\n",
              "    </tr>\n",
              "    <tr>\n",
              "      <th>4</th>\n",
              "      <td>No</td>\n",
              "      <td>23.71</td>\n",
              "      <td>No</td>\n",
              "      <td>No</td>\n",
              "      <td>No</td>\n",
              "      <td>28.0</td>\n",
              "      <td>0.0</td>\n",
              "      <td>Yes</td>\n",
              "      <td>Female</td>\n",
              "      <td>40-44</td>\n",
              "      <td>...</td>\n",
              "      <td>None</td>\n",
              "      <td>Age group</td>\n",
              "      <td>Ages 35-64 years</td>\n",
              "      <td>Race/EthnicityAge group</td>\n",
              "      <td>American Indian and Alaska Native</td>\n",
              "      <td>Sex</td>\n",
              "      <td>Overall</td>\n",
              "      <td>T1</td>\n",
              "      <td>-86.64295911</td>\n",
              "      <td>32.53530561</td>\n",
              "    </tr>\n",
              "  </tbody>\n",
              "</table>\n",
              "<p>5 rows × 50 columns</p>\n",
              "</div>\n",
              "    <div class=\"colab-df-buttons\">\n",
              "\n",
              "  <div class=\"colab-df-container\">\n",
              "    <button class=\"colab-df-convert\" onclick=\"convertToInteractive('df-40dff088-e54f-462b-9557-228827d0a94c')\"\n",
              "            title=\"Convert this dataframe to an interactive table.\"\n",
              "            style=\"display:none;\">\n",
              "\n",
              "  <svg xmlns=\"http://www.w3.org/2000/svg\" height=\"24px\" viewBox=\"0 -960 960 960\">\n",
              "    <path d=\"M120-120v-720h720v720H120Zm60-500h600v-160H180v160Zm220 220h160v-160H400v160Zm0 220h160v-160H400v160ZM180-400h160v-160H180v160Zm440 0h160v-160H620v160ZM180-180h160v-160H180v160Zm440 0h160v-160H620v160Z\"/>\n",
              "  </svg>\n",
              "    </button>\n",
              "\n",
              "  <style>\n",
              "    .colab-df-container {\n",
              "      display:flex;\n",
              "      gap: 12px;\n",
              "    }\n",
              "\n",
              "    .colab-df-convert {\n",
              "      background-color: #E8F0FE;\n",
              "      border: none;\n",
              "      border-radius: 50%;\n",
              "      cursor: pointer;\n",
              "      display: none;\n",
              "      fill: #1967D2;\n",
              "      height: 32px;\n",
              "      padding: 0 0 0 0;\n",
              "      width: 32px;\n",
              "    }\n",
              "\n",
              "    .colab-df-convert:hover {\n",
              "      background-color: #E2EBFA;\n",
              "      box-shadow: 0px 1px 2px rgba(60, 64, 67, 0.3), 0px 1px 3px 1px rgba(60, 64, 67, 0.15);\n",
              "      fill: #174EA6;\n",
              "    }\n",
              "\n",
              "    .colab-df-buttons div {\n",
              "      margin-bottom: 4px;\n",
              "    }\n",
              "\n",
              "    [theme=dark] .colab-df-convert {\n",
              "      background-color: #3B4455;\n",
              "      fill: #D2E3FC;\n",
              "    }\n",
              "\n",
              "    [theme=dark] .colab-df-convert:hover {\n",
              "      background-color: #434B5C;\n",
              "      box-shadow: 0px 1px 3px 1px rgba(0, 0, 0, 0.15);\n",
              "      filter: drop-shadow(0px 1px 2px rgba(0, 0, 0, 0.3));\n",
              "      fill: #FFFFFF;\n",
              "    }\n",
              "  </style>\n",
              "\n",
              "    <script>\n",
              "      const buttonEl =\n",
              "        document.querySelector('#df-40dff088-e54f-462b-9557-228827d0a94c button.colab-df-convert');\n",
              "      buttonEl.style.display =\n",
              "        google.colab.kernel.accessAllowed ? 'block' : 'none';\n",
              "\n",
              "      async function convertToInteractive(key) {\n",
              "        const element = document.querySelector('#df-40dff088-e54f-462b-9557-228827d0a94c');\n",
              "        const dataTable =\n",
              "          await google.colab.kernel.invokeFunction('convertToInteractive',\n",
              "                                                    [key], {});\n",
              "        if (!dataTable) return;\n",
              "\n",
              "        const docLinkHtml = 'Like what you see? Visit the ' +\n",
              "          '<a target=\"_blank\" href=https://colab.research.google.com/notebooks/data_table.ipynb>data table notebook</a>'\n",
              "          + ' to learn more about interactive tables.';\n",
              "        element.innerHTML = '';\n",
              "        dataTable['output_type'] = 'display_data';\n",
              "        await google.colab.output.renderOutput(dataTable, element);\n",
              "        const docLink = document.createElement('div');\n",
              "        docLink.innerHTML = docLinkHtml;\n",
              "        element.appendChild(docLink);\n",
              "      }\n",
              "    </script>\n",
              "  </div>\n",
              "\n",
              "\n",
              "<div id=\"df-5b344580-7768-4abd-9a0d-47743778a65d\">\n",
              "  <button class=\"colab-df-quickchart\" onclick=\"quickchart('df-5b344580-7768-4abd-9a0d-47743778a65d')\"\n",
              "            title=\"Suggest charts\"\n",
              "            style=\"display:none;\">\n",
              "\n",
              "<svg xmlns=\"http://www.w3.org/2000/svg\" height=\"24px\"viewBox=\"0 0 24 24\"\n",
              "     width=\"24px\">\n",
              "    <g>\n",
              "        <path d=\"M19 3H5c-1.1 0-2 .9-2 2v14c0 1.1.9 2 2 2h14c1.1 0 2-.9 2-2V5c0-1.1-.9-2-2-2zM9 17H7v-7h2v7zm4 0h-2V7h2v10zm4 0h-2v-4h2v4z\"/>\n",
              "    </g>\n",
              "</svg>\n",
              "  </button>\n",
              "\n",
              "<style>\n",
              "  .colab-df-quickchart {\n",
              "      --bg-color: #E8F0FE;\n",
              "      --fill-color: #1967D2;\n",
              "      --hover-bg-color: #E2EBFA;\n",
              "      --hover-fill-color: #174EA6;\n",
              "      --disabled-fill-color: #AAA;\n",
              "      --disabled-bg-color: #DDD;\n",
              "  }\n",
              "\n",
              "  [theme=dark] .colab-df-quickchart {\n",
              "      --bg-color: #3B4455;\n",
              "      --fill-color: #D2E3FC;\n",
              "      --hover-bg-color: #434B5C;\n",
              "      --hover-fill-color: #FFFFFF;\n",
              "      --disabled-bg-color: #3B4455;\n",
              "      --disabled-fill-color: #666;\n",
              "  }\n",
              "\n",
              "  .colab-df-quickchart {\n",
              "    background-color: var(--bg-color);\n",
              "    border: none;\n",
              "    border-radius: 50%;\n",
              "    cursor: pointer;\n",
              "    display: none;\n",
              "    fill: var(--fill-color);\n",
              "    height: 32px;\n",
              "    padding: 0;\n",
              "    width: 32px;\n",
              "  }\n",
              "\n",
              "  .colab-df-quickchart:hover {\n",
              "    background-color: var(--hover-bg-color);\n",
              "    box-shadow: 0 1px 2px rgba(60, 64, 67, 0.3), 0 1px 3px 1px rgba(60, 64, 67, 0.15);\n",
              "    fill: var(--button-hover-fill-color);\n",
              "  }\n",
              "\n",
              "  .colab-df-quickchart-complete:disabled,\n",
              "  .colab-df-quickchart-complete:disabled:hover {\n",
              "    background-color: var(--disabled-bg-color);\n",
              "    fill: var(--disabled-fill-color);\n",
              "    box-shadow: none;\n",
              "  }\n",
              "\n",
              "  .colab-df-spinner {\n",
              "    border: 2px solid var(--fill-color);\n",
              "    border-color: transparent;\n",
              "    border-bottom-color: var(--fill-color);\n",
              "    animation:\n",
              "      spin 1s steps(1) infinite;\n",
              "  }\n",
              "\n",
              "  @keyframes spin {\n",
              "    0% {\n",
              "      border-color: transparent;\n",
              "      border-bottom-color: var(--fill-color);\n",
              "      border-left-color: var(--fill-color);\n",
              "    }\n",
              "    20% {\n",
              "      border-color: transparent;\n",
              "      border-left-color: var(--fill-color);\n",
              "      border-top-color: var(--fill-color);\n",
              "    }\n",
              "    30% {\n",
              "      border-color: transparent;\n",
              "      border-left-color: var(--fill-color);\n",
              "      border-top-color: var(--fill-color);\n",
              "      border-right-color: var(--fill-color);\n",
              "    }\n",
              "    40% {\n",
              "      border-color: transparent;\n",
              "      border-right-color: var(--fill-color);\n",
              "      border-top-color: var(--fill-color);\n",
              "    }\n",
              "    60% {\n",
              "      border-color: transparent;\n",
              "      border-right-color: var(--fill-color);\n",
              "    }\n",
              "    80% {\n",
              "      border-color: transparent;\n",
              "      border-right-color: var(--fill-color);\n",
              "      border-bottom-color: var(--fill-color);\n",
              "    }\n",
              "    90% {\n",
              "      border-color: transparent;\n",
              "      border-bottom-color: var(--fill-color);\n",
              "    }\n",
              "  }\n",
              "</style>\n",
              "\n",
              "  <script>\n",
              "    async function quickchart(key) {\n",
              "      const quickchartButtonEl =\n",
              "        document.querySelector('#' + key + ' button');\n",
              "      quickchartButtonEl.disabled = true;  // To prevent multiple clicks.\n",
              "      quickchartButtonEl.classList.add('colab-df-spinner');\n",
              "      try {\n",
              "        const charts = await google.colab.kernel.invokeFunction(\n",
              "            'suggestCharts', [key], {});\n",
              "      } catch (error) {\n",
              "        console.error('Error during call to suggestCharts:', error);\n",
              "      }\n",
              "      quickchartButtonEl.classList.remove('colab-df-spinner');\n",
              "      quickchartButtonEl.classList.add('colab-df-quickchart-complete');\n",
              "    }\n",
              "    (() => {\n",
              "      let quickchartButtonEl =\n",
              "        document.querySelector('#df-5b344580-7768-4abd-9a0d-47743778a65d button');\n",
              "      quickchartButtonEl.style.display =\n",
              "        google.colab.kernel.accessAllowed ? 'block' : 'none';\n",
              "    })();\n",
              "  </script>\n",
              "</div>\n",
              "    </div>\n",
              "  </div>\n"
            ]
          },
          "metadata": {},
          "execution_count": 41
        }
      ]
    },
    {
      "cell_type": "code",
      "source": [
        "heart_disease_data.shape"
      ],
      "metadata": {
        "colab": {
          "base_uri": "https://localhost:8080/"
        },
        "id": "0WDfp1lKcheI",
        "outputId": "5cf3110f-cfb4-4b59-9607-6c46d573bbbd"
      },
      "execution_count": 42,
      "outputs": [
        {
          "output_type": "execute_result",
          "data": {
            "text/plain": [
              "(319795, 50)"
            ]
          },
          "metadata": {},
          "execution_count": 42
        }
      ]
    },
    {
      "cell_type": "code",
      "source": [
        "heart_disease_data.info()"
      ],
      "metadata": {
        "colab": {
          "base_uri": "https://localhost:8080/"
        },
        "id": "eLYbQasQcjoP",
        "outputId": "13550f80-776e-4b6c-a580-8dd9a350694c"
      },
      "execution_count": 43,
      "outputs": [
        {
          "output_type": "stream",
          "name": "stdout",
          "text": [
            "<class 'pandas.core.frame.DataFrame'>\n",
            "RangeIndex: 319795 entries, 0 to 319794\n",
            "Data columns (total 50 columns):\n",
            " #   Column                      Non-Null Count   Dtype  \n",
            "---  ------                      --------------   -----  \n",
            " 0   HeartDisease                319795 non-null  object \n",
            " 1   BMI                         319795 non-null  float64\n",
            " 2   Smoking                     319795 non-null  object \n",
            " 3   AlcoholDrinking             319795 non-null  object \n",
            " 4   Stroke                      319795 non-null  object \n",
            " 5   PhysicalHealth              319795 non-null  float64\n",
            " 6   MentalHealth                319795 non-null  float64\n",
            " 7   DiffWalking                 319795 non-null  object \n",
            " 8   Sex                         319795 non-null  object \n",
            " 9   AgeCategory                 319795 non-null  object \n",
            " 10  Race                        319795 non-null  object \n",
            " 11  Diabetic                    319795 non-null  object \n",
            " 12  PhysicalActivity            319795 non-null  object \n",
            " 13  GenHealth                   319795 non-null  object \n",
            " 14  SleepTime                   319795 non-null  float64\n",
            " 15  Asthma                      319795 non-null  object \n",
            " 16  KidneyDisease               319795 non-null  object \n",
            " 17  SkinCancer                  319795 non-null  object \n",
            " 18  sid                         319795 non-null  object \n",
            " 19  id                          319795 non-null  object \n",
            " 20  position                    319795 non-null  int64  \n",
            " 21  created_at                  319795 non-null  int64  \n",
            " 22  created_meta                0 non-null       object \n",
            " 23  updated_at                  319795 non-null  int64  \n",
            " 24  updated_meta                0 non-null       object \n",
            " 25  meta                        319795 non-null  object \n",
            " 26  LocationID                  319795 non-null  object \n",
            " 27  Year                        319795 non-null  object \n",
            " 28  LocationAbbr                319795 non-null  object \n",
            " 29  LocationDesc                319795 non-null  object \n",
            " 30  GeographicLevel             319795 non-null  object \n",
            " 31  DataSource                  319795 non-null  object \n",
            " 32  Class                       319795 non-null  object \n",
            " 33  Topic                       319795 non-null  object \n",
            " 34  Data_Value                  173013 non-null  object \n",
            " 35  Data_Value_Unit             319795 non-null  object \n",
            " 36  Data_Value_Type             319795 non-null  object \n",
            " 37  Data_Value_Footnote_Symbol  146782 non-null  object \n",
            " 38  Data_Value_Footnote         146782 non-null  object \n",
            " 39  Confidence_limit_Low        173013 non-null  object \n",
            " 40  Confidence_limit_High       173013 non-null  object \n",
            " 41  StratificationCategory1     319795 non-null  object \n",
            " 42  Stratification1             319795 non-null  object \n",
            " 43  StratificationCategory2     319795 non-null  object \n",
            " 44  Stratification2             319795 non-null  object \n",
            " 45  StratificationCategory3     319795 non-null  object \n",
            " 46  Stratification3             319795 non-null  object \n",
            " 47  TopicID                     319795 non-null  object \n",
            " 48  X_long                      319795 non-null  object \n",
            " 49  Y_lat                       319795 non-null  object \n",
            "dtypes: float64(4), int64(3), object(43)\n",
            "memory usage: 122.0+ MB\n"
          ]
        }
      ]
    },
    {
      "cell_type": "markdown",
      "source": [
        "### Data Aggregation"
      ],
      "metadata": {
        "id": "33vAztSIBeMC"
      }
    },
    {
      "cell_type": "code",
      "source": [
        "heart_disease_data.describe()"
      ],
      "metadata": {
        "colab": {
          "base_uri": "https://localhost:8080/",
          "height": 300
        },
        "id": "UIL9QLZ5ckpS",
        "outputId": "00e4879e-857e-4a5e-d34b-478e893a0b9d"
      },
      "execution_count": 44,
      "outputs": [
        {
          "output_type": "execute_result",
          "data": {
            "text/plain": [
              "                 BMI  PhysicalHealth   MentalHealth      SleepTime  position  \\\n",
              "count  319795.000000    319795.00000  319795.000000  319795.000000  319795.0   \n",
              "mean       28.325399         3.37171       3.898366       7.097075       0.0   \n",
              "std         6.356100         7.95085       7.955235       1.436007       0.0   \n",
              "min        12.020000         0.00000       0.000000       1.000000       0.0   \n",
              "25%        24.030000         0.00000       0.000000       6.000000       0.0   \n",
              "50%        27.340000         0.00000       0.000000       7.000000       0.0   \n",
              "75%        31.420000         2.00000       3.000000       8.000000       0.0   \n",
              "max        94.850000        30.00000      30.000000      24.000000       0.0   \n",
              "\n",
              "         created_at    updated_at  \n",
              "count  3.197950e+05  3.197950e+05  \n",
              "mean   1.644346e+09  1.644346e+09  \n",
              "std    0.000000e+00  0.000000e+00  \n",
              "min    1.644346e+09  1.644346e+09  \n",
              "25%    1.644346e+09  1.644346e+09  \n",
              "50%    1.644346e+09  1.644346e+09  \n",
              "75%    1.644346e+09  1.644346e+09  \n",
              "max    1.644346e+09  1.644346e+09  "
            ],
            "text/html": [
              "\n",
              "  <div id=\"df-1955d6c5-71a2-44a8-bb8e-8ea864c116c6\" class=\"colab-df-container\">\n",
              "    <div>\n",
              "<style scoped>\n",
              "    .dataframe tbody tr th:only-of-type {\n",
              "        vertical-align: middle;\n",
              "    }\n",
              "\n",
              "    .dataframe tbody tr th {\n",
              "        vertical-align: top;\n",
              "    }\n",
              "\n",
              "    .dataframe thead th {\n",
              "        text-align: right;\n",
              "    }\n",
              "</style>\n",
              "<table border=\"1\" class=\"dataframe\">\n",
              "  <thead>\n",
              "    <tr style=\"text-align: right;\">\n",
              "      <th></th>\n",
              "      <th>BMI</th>\n",
              "      <th>PhysicalHealth</th>\n",
              "      <th>MentalHealth</th>\n",
              "      <th>SleepTime</th>\n",
              "      <th>position</th>\n",
              "      <th>created_at</th>\n",
              "      <th>updated_at</th>\n",
              "    </tr>\n",
              "  </thead>\n",
              "  <tbody>\n",
              "    <tr>\n",
              "      <th>count</th>\n",
              "      <td>319795.000000</td>\n",
              "      <td>319795.00000</td>\n",
              "      <td>319795.000000</td>\n",
              "      <td>319795.000000</td>\n",
              "      <td>319795.0</td>\n",
              "      <td>3.197950e+05</td>\n",
              "      <td>3.197950e+05</td>\n",
              "    </tr>\n",
              "    <tr>\n",
              "      <th>mean</th>\n",
              "      <td>28.325399</td>\n",
              "      <td>3.37171</td>\n",
              "      <td>3.898366</td>\n",
              "      <td>7.097075</td>\n",
              "      <td>0.0</td>\n",
              "      <td>1.644346e+09</td>\n",
              "      <td>1.644346e+09</td>\n",
              "    </tr>\n",
              "    <tr>\n",
              "      <th>std</th>\n",
              "      <td>6.356100</td>\n",
              "      <td>7.95085</td>\n",
              "      <td>7.955235</td>\n",
              "      <td>1.436007</td>\n",
              "      <td>0.0</td>\n",
              "      <td>0.000000e+00</td>\n",
              "      <td>0.000000e+00</td>\n",
              "    </tr>\n",
              "    <tr>\n",
              "      <th>min</th>\n",
              "      <td>12.020000</td>\n",
              "      <td>0.00000</td>\n",
              "      <td>0.000000</td>\n",
              "      <td>1.000000</td>\n",
              "      <td>0.0</td>\n",
              "      <td>1.644346e+09</td>\n",
              "      <td>1.644346e+09</td>\n",
              "    </tr>\n",
              "    <tr>\n",
              "      <th>25%</th>\n",
              "      <td>24.030000</td>\n",
              "      <td>0.00000</td>\n",
              "      <td>0.000000</td>\n",
              "      <td>6.000000</td>\n",
              "      <td>0.0</td>\n",
              "      <td>1.644346e+09</td>\n",
              "      <td>1.644346e+09</td>\n",
              "    </tr>\n",
              "    <tr>\n",
              "      <th>50%</th>\n",
              "      <td>27.340000</td>\n",
              "      <td>0.00000</td>\n",
              "      <td>0.000000</td>\n",
              "      <td>7.000000</td>\n",
              "      <td>0.0</td>\n",
              "      <td>1.644346e+09</td>\n",
              "      <td>1.644346e+09</td>\n",
              "    </tr>\n",
              "    <tr>\n",
              "      <th>75%</th>\n",
              "      <td>31.420000</td>\n",
              "      <td>2.00000</td>\n",
              "      <td>3.000000</td>\n",
              "      <td>8.000000</td>\n",
              "      <td>0.0</td>\n",
              "      <td>1.644346e+09</td>\n",
              "      <td>1.644346e+09</td>\n",
              "    </tr>\n",
              "    <tr>\n",
              "      <th>max</th>\n",
              "      <td>94.850000</td>\n",
              "      <td>30.00000</td>\n",
              "      <td>30.000000</td>\n",
              "      <td>24.000000</td>\n",
              "      <td>0.0</td>\n",
              "      <td>1.644346e+09</td>\n",
              "      <td>1.644346e+09</td>\n",
              "    </tr>\n",
              "  </tbody>\n",
              "</table>\n",
              "</div>\n",
              "    <div class=\"colab-df-buttons\">\n",
              "\n",
              "  <div class=\"colab-df-container\">\n",
              "    <button class=\"colab-df-convert\" onclick=\"convertToInteractive('df-1955d6c5-71a2-44a8-bb8e-8ea864c116c6')\"\n",
              "            title=\"Convert this dataframe to an interactive table.\"\n",
              "            style=\"display:none;\">\n",
              "\n",
              "  <svg xmlns=\"http://www.w3.org/2000/svg\" height=\"24px\" viewBox=\"0 -960 960 960\">\n",
              "    <path d=\"M120-120v-720h720v720H120Zm60-500h600v-160H180v160Zm220 220h160v-160H400v160Zm0 220h160v-160H400v160ZM180-400h160v-160H180v160Zm440 0h160v-160H620v160ZM180-180h160v-160H180v160Zm440 0h160v-160H620v160Z\"/>\n",
              "  </svg>\n",
              "    </button>\n",
              "\n",
              "  <style>\n",
              "    .colab-df-container {\n",
              "      display:flex;\n",
              "      gap: 12px;\n",
              "    }\n",
              "\n",
              "    .colab-df-convert {\n",
              "      background-color: #E8F0FE;\n",
              "      border: none;\n",
              "      border-radius: 50%;\n",
              "      cursor: pointer;\n",
              "      display: none;\n",
              "      fill: #1967D2;\n",
              "      height: 32px;\n",
              "      padding: 0 0 0 0;\n",
              "      width: 32px;\n",
              "    }\n",
              "\n",
              "    .colab-df-convert:hover {\n",
              "      background-color: #E2EBFA;\n",
              "      box-shadow: 0px 1px 2px rgba(60, 64, 67, 0.3), 0px 1px 3px 1px rgba(60, 64, 67, 0.15);\n",
              "      fill: #174EA6;\n",
              "    }\n",
              "\n",
              "    .colab-df-buttons div {\n",
              "      margin-bottom: 4px;\n",
              "    }\n",
              "\n",
              "    [theme=dark] .colab-df-convert {\n",
              "      background-color: #3B4455;\n",
              "      fill: #D2E3FC;\n",
              "    }\n",
              "\n",
              "    [theme=dark] .colab-df-convert:hover {\n",
              "      background-color: #434B5C;\n",
              "      box-shadow: 0px 1px 3px 1px rgba(0, 0, 0, 0.15);\n",
              "      filter: drop-shadow(0px 1px 2px rgba(0, 0, 0, 0.3));\n",
              "      fill: #FFFFFF;\n",
              "    }\n",
              "  </style>\n",
              "\n",
              "    <script>\n",
              "      const buttonEl =\n",
              "        document.querySelector('#df-1955d6c5-71a2-44a8-bb8e-8ea864c116c6 button.colab-df-convert');\n",
              "      buttonEl.style.display =\n",
              "        google.colab.kernel.accessAllowed ? 'block' : 'none';\n",
              "\n",
              "      async function convertToInteractive(key) {\n",
              "        const element = document.querySelector('#df-1955d6c5-71a2-44a8-bb8e-8ea864c116c6');\n",
              "        const dataTable =\n",
              "          await google.colab.kernel.invokeFunction('convertToInteractive',\n",
              "                                                    [key], {});\n",
              "        if (!dataTable) return;\n",
              "\n",
              "        const docLinkHtml = 'Like what you see? Visit the ' +\n",
              "          '<a target=\"_blank\" href=https://colab.research.google.com/notebooks/data_table.ipynb>data table notebook</a>'\n",
              "          + ' to learn more about interactive tables.';\n",
              "        element.innerHTML = '';\n",
              "        dataTable['output_type'] = 'display_data';\n",
              "        await google.colab.output.renderOutput(dataTable, element);\n",
              "        const docLink = document.createElement('div');\n",
              "        docLink.innerHTML = docLinkHtml;\n",
              "        element.appendChild(docLink);\n",
              "      }\n",
              "    </script>\n",
              "  </div>\n",
              "\n",
              "\n",
              "<div id=\"df-ce8d7cce-6278-48a4-a9ec-ffc1684b9745\">\n",
              "  <button class=\"colab-df-quickchart\" onclick=\"quickchart('df-ce8d7cce-6278-48a4-a9ec-ffc1684b9745')\"\n",
              "            title=\"Suggest charts\"\n",
              "            style=\"display:none;\">\n",
              "\n",
              "<svg xmlns=\"http://www.w3.org/2000/svg\" height=\"24px\"viewBox=\"0 0 24 24\"\n",
              "     width=\"24px\">\n",
              "    <g>\n",
              "        <path d=\"M19 3H5c-1.1 0-2 .9-2 2v14c0 1.1.9 2 2 2h14c1.1 0 2-.9 2-2V5c0-1.1-.9-2-2-2zM9 17H7v-7h2v7zm4 0h-2V7h2v10zm4 0h-2v-4h2v4z\"/>\n",
              "    </g>\n",
              "</svg>\n",
              "  </button>\n",
              "\n",
              "<style>\n",
              "  .colab-df-quickchart {\n",
              "      --bg-color: #E8F0FE;\n",
              "      --fill-color: #1967D2;\n",
              "      --hover-bg-color: #E2EBFA;\n",
              "      --hover-fill-color: #174EA6;\n",
              "      --disabled-fill-color: #AAA;\n",
              "      --disabled-bg-color: #DDD;\n",
              "  }\n",
              "\n",
              "  [theme=dark] .colab-df-quickchart {\n",
              "      --bg-color: #3B4455;\n",
              "      --fill-color: #D2E3FC;\n",
              "      --hover-bg-color: #434B5C;\n",
              "      --hover-fill-color: #FFFFFF;\n",
              "      --disabled-bg-color: #3B4455;\n",
              "      --disabled-fill-color: #666;\n",
              "  }\n",
              "\n",
              "  .colab-df-quickchart {\n",
              "    background-color: var(--bg-color);\n",
              "    border: none;\n",
              "    border-radius: 50%;\n",
              "    cursor: pointer;\n",
              "    display: none;\n",
              "    fill: var(--fill-color);\n",
              "    height: 32px;\n",
              "    padding: 0;\n",
              "    width: 32px;\n",
              "  }\n",
              "\n",
              "  .colab-df-quickchart:hover {\n",
              "    background-color: var(--hover-bg-color);\n",
              "    box-shadow: 0 1px 2px rgba(60, 64, 67, 0.3), 0 1px 3px 1px rgba(60, 64, 67, 0.15);\n",
              "    fill: var(--button-hover-fill-color);\n",
              "  }\n",
              "\n",
              "  .colab-df-quickchart-complete:disabled,\n",
              "  .colab-df-quickchart-complete:disabled:hover {\n",
              "    background-color: var(--disabled-bg-color);\n",
              "    fill: var(--disabled-fill-color);\n",
              "    box-shadow: none;\n",
              "  }\n",
              "\n",
              "  .colab-df-spinner {\n",
              "    border: 2px solid var(--fill-color);\n",
              "    border-color: transparent;\n",
              "    border-bottom-color: var(--fill-color);\n",
              "    animation:\n",
              "      spin 1s steps(1) infinite;\n",
              "  }\n",
              "\n",
              "  @keyframes spin {\n",
              "    0% {\n",
              "      border-color: transparent;\n",
              "      border-bottom-color: var(--fill-color);\n",
              "      border-left-color: var(--fill-color);\n",
              "    }\n",
              "    20% {\n",
              "      border-color: transparent;\n",
              "      border-left-color: var(--fill-color);\n",
              "      border-top-color: var(--fill-color);\n",
              "    }\n",
              "    30% {\n",
              "      border-color: transparent;\n",
              "      border-left-color: var(--fill-color);\n",
              "      border-top-color: var(--fill-color);\n",
              "      border-right-color: var(--fill-color);\n",
              "    }\n",
              "    40% {\n",
              "      border-color: transparent;\n",
              "      border-right-color: var(--fill-color);\n",
              "      border-top-color: var(--fill-color);\n",
              "    }\n",
              "    60% {\n",
              "      border-color: transparent;\n",
              "      border-right-color: var(--fill-color);\n",
              "    }\n",
              "    80% {\n",
              "      border-color: transparent;\n",
              "      border-right-color: var(--fill-color);\n",
              "      border-bottom-color: var(--fill-color);\n",
              "    }\n",
              "    90% {\n",
              "      border-color: transparent;\n",
              "      border-bottom-color: var(--fill-color);\n",
              "    }\n",
              "  }\n",
              "</style>\n",
              "\n",
              "  <script>\n",
              "    async function quickchart(key) {\n",
              "      const quickchartButtonEl =\n",
              "        document.querySelector('#' + key + ' button');\n",
              "      quickchartButtonEl.disabled = true;  // To prevent multiple clicks.\n",
              "      quickchartButtonEl.classList.add('colab-df-spinner');\n",
              "      try {\n",
              "        const charts = await google.colab.kernel.invokeFunction(\n",
              "            'suggestCharts', [key], {});\n",
              "      } catch (error) {\n",
              "        console.error('Error during call to suggestCharts:', error);\n",
              "      }\n",
              "      quickchartButtonEl.classList.remove('colab-df-spinner');\n",
              "      quickchartButtonEl.classList.add('colab-df-quickchart-complete');\n",
              "    }\n",
              "    (() => {\n",
              "      let quickchartButtonEl =\n",
              "        document.querySelector('#df-ce8d7cce-6278-48a4-a9ec-ffc1684b9745 button');\n",
              "      quickchartButtonEl.style.display =\n",
              "        google.colab.kernel.accessAllowed ? 'block' : 'none';\n",
              "    })();\n",
              "  </script>\n",
              "</div>\n",
              "    </div>\n",
              "  </div>\n"
            ]
          },
          "metadata": {},
          "execution_count": 44
        }
      ]
    },
    {
      "cell_type": "code",
      "source": [
        "heart_disease_data.describe()[1:][['BMI','PhysicalHealth','MentalHealth', 'SleepTime']].T.style.background_gradient(cmap='Blues')"
      ],
      "metadata": {
        "colab": {
          "base_uri": "https://localhost:8080/",
          "height": 175
        },
        "id": "gYPhDxQZcmXm",
        "outputId": "a9a46be4-6eab-4338-e81b-a310ffa23117"
      },
      "execution_count": 45,
      "outputs": [
        {
          "output_type": "execute_result",
          "data": {
            "text/plain": [
              "<pandas.io.formats.style.Styler at 0x7e5aa2085c00>"
            ],
            "text/html": [
              "<style type=\"text/css\">\n",
              "#T_dee03_row0_col0, #T_dee03_row0_col2, #T_dee03_row0_col3, #T_dee03_row0_col4, #T_dee03_row0_col5, #T_dee03_row0_col6, #T_dee03_row1_col1, #T_dee03_row2_col1 {\n",
              "  background-color: #08306b;\n",
              "  color: #f1f1f1;\n",
              "}\n",
              "#T_dee03_row0_col1 {\n",
              "  background-color: #206fb4;\n",
              "  color: #f1f1f1;\n",
              "}\n",
              "#T_dee03_row1_col0, #T_dee03_row1_col2, #T_dee03_row1_col3, #T_dee03_row1_col4, #T_dee03_row1_col5, #T_dee03_row2_col2, #T_dee03_row2_col3, #T_dee03_row2_col4, #T_dee03_row3_col1, #T_dee03_row3_col6 {\n",
              "  background-color: #f7fbff;\n",
              "  color: #000000;\n",
              "}\n",
              "#T_dee03_row1_col6, #T_dee03_row2_col6, #T_dee03_row3_col2 {\n",
              "  background-color: #e7f0fa;\n",
              "  color: #000000;\n",
              "}\n",
              "#T_dee03_row2_col0 {\n",
              "  background-color: #f3f8fe;\n",
              "  color: #000000;\n",
              "}\n",
              "#T_dee03_row2_col5 {\n",
              "  background-color: #f1f7fd;\n",
              "  color: #000000;\n",
              "}\n",
              "#T_dee03_row3_col0 {\n",
              "  background-color: #d9e8f5;\n",
              "  color: #000000;\n",
              "}\n",
              "#T_dee03_row3_col3 {\n",
              "  background-color: #c7dbef;\n",
              "  color: #000000;\n",
              "}\n",
              "#T_dee03_row3_col4 {\n",
              "  background-color: #c4daee;\n",
              "  color: #000000;\n",
              "}\n",
              "#T_dee03_row3_col5 {\n",
              "  background-color: #cfe1f2;\n",
              "  color: #000000;\n",
              "}\n",
              "</style>\n",
              "<table id=\"T_dee03\" class=\"dataframe\">\n",
              "  <thead>\n",
              "    <tr>\n",
              "      <th class=\"blank level0\" >&nbsp;</th>\n",
              "      <th id=\"T_dee03_level0_col0\" class=\"col_heading level0 col0\" >mean</th>\n",
              "      <th id=\"T_dee03_level0_col1\" class=\"col_heading level0 col1\" >std</th>\n",
              "      <th id=\"T_dee03_level0_col2\" class=\"col_heading level0 col2\" >min</th>\n",
              "      <th id=\"T_dee03_level0_col3\" class=\"col_heading level0 col3\" >25%</th>\n",
              "      <th id=\"T_dee03_level0_col4\" class=\"col_heading level0 col4\" >50%</th>\n",
              "      <th id=\"T_dee03_level0_col5\" class=\"col_heading level0 col5\" >75%</th>\n",
              "      <th id=\"T_dee03_level0_col6\" class=\"col_heading level0 col6\" >max</th>\n",
              "    </tr>\n",
              "  </thead>\n",
              "  <tbody>\n",
              "    <tr>\n",
              "      <th id=\"T_dee03_level0_row0\" class=\"row_heading level0 row0\" >BMI</th>\n",
              "      <td id=\"T_dee03_row0_col0\" class=\"data row0 col0\" >28.325399</td>\n",
              "      <td id=\"T_dee03_row0_col1\" class=\"data row0 col1\" >6.356100</td>\n",
              "      <td id=\"T_dee03_row0_col2\" class=\"data row0 col2\" >12.020000</td>\n",
              "      <td id=\"T_dee03_row0_col3\" class=\"data row0 col3\" >24.030000</td>\n",
              "      <td id=\"T_dee03_row0_col4\" class=\"data row0 col4\" >27.340000</td>\n",
              "      <td id=\"T_dee03_row0_col5\" class=\"data row0 col5\" >31.420000</td>\n",
              "      <td id=\"T_dee03_row0_col6\" class=\"data row0 col6\" >94.850000</td>\n",
              "    </tr>\n",
              "    <tr>\n",
              "      <th id=\"T_dee03_level0_row1\" class=\"row_heading level0 row1\" >PhysicalHealth</th>\n",
              "      <td id=\"T_dee03_row1_col0\" class=\"data row1 col0\" >3.371710</td>\n",
              "      <td id=\"T_dee03_row1_col1\" class=\"data row1 col1\" >7.950850</td>\n",
              "      <td id=\"T_dee03_row1_col2\" class=\"data row1 col2\" >0.000000</td>\n",
              "      <td id=\"T_dee03_row1_col3\" class=\"data row1 col3\" >0.000000</td>\n",
              "      <td id=\"T_dee03_row1_col4\" class=\"data row1 col4\" >0.000000</td>\n",
              "      <td id=\"T_dee03_row1_col5\" class=\"data row1 col5\" >2.000000</td>\n",
              "      <td id=\"T_dee03_row1_col6\" class=\"data row1 col6\" >30.000000</td>\n",
              "    </tr>\n",
              "    <tr>\n",
              "      <th id=\"T_dee03_level0_row2\" class=\"row_heading level0 row2\" >MentalHealth</th>\n",
              "      <td id=\"T_dee03_row2_col0\" class=\"data row2 col0\" >3.898366</td>\n",
              "      <td id=\"T_dee03_row2_col1\" class=\"data row2 col1\" >7.955235</td>\n",
              "      <td id=\"T_dee03_row2_col2\" class=\"data row2 col2\" >0.000000</td>\n",
              "      <td id=\"T_dee03_row2_col3\" class=\"data row2 col3\" >0.000000</td>\n",
              "      <td id=\"T_dee03_row2_col4\" class=\"data row2 col4\" >0.000000</td>\n",
              "      <td id=\"T_dee03_row2_col5\" class=\"data row2 col5\" >3.000000</td>\n",
              "      <td id=\"T_dee03_row2_col6\" class=\"data row2 col6\" >30.000000</td>\n",
              "    </tr>\n",
              "    <tr>\n",
              "      <th id=\"T_dee03_level0_row3\" class=\"row_heading level0 row3\" >SleepTime</th>\n",
              "      <td id=\"T_dee03_row3_col0\" class=\"data row3 col0\" >7.097075</td>\n",
              "      <td id=\"T_dee03_row3_col1\" class=\"data row3 col1\" >1.436007</td>\n",
              "      <td id=\"T_dee03_row3_col2\" class=\"data row3 col2\" >1.000000</td>\n",
              "      <td id=\"T_dee03_row3_col3\" class=\"data row3 col3\" >6.000000</td>\n",
              "      <td id=\"T_dee03_row3_col4\" class=\"data row3 col4\" >7.000000</td>\n",
              "      <td id=\"T_dee03_row3_col5\" class=\"data row3 col5\" >8.000000</td>\n",
              "      <td id=\"T_dee03_row3_col6\" class=\"data row3 col6\" >24.000000</td>\n",
              "    </tr>\n",
              "  </tbody>\n",
              "</table>\n"
            ]
          },
          "metadata": {},
          "execution_count": 45
        }
      ]
    },
    {
      "cell_type": "markdown",
      "source": [
        "**Output Explanation:**\n",
        "The output is a stylized descriptive statistical summary for the specified columns. Each statistic (mean, std, min, 25%, 50%, 75%, max) is presented for 'BMI', 'PhysicalHealth', 'MentalHealth', and 'SleepTime'. The background gradient, in shades of blue, helps to visually highlight the magnitude of each statistic. Darker shades may indicate higher values, while lighter shades may indicate lower values.\n",
        "\n",
        "**For example:**\n",
        "\n",
        "**BMI:** The mean BMI is approximately 28.33, with a standard deviation of 6.36. The range (min to max) is from 12.02 to 94.85.\n",
        "\n",
        "**PhysicalHealth:**The mean physical health score is around 3.37, with a standard deviation of 7.95. The scores range from 0 to 30.\n",
        "\n",
        "**MentalHealth:** The mean mental health score is about 3.90, with a standard deviation of 7.96. Scores also range from 0 to 30.\n",
        "\n",
        "**SleepTime**: The mean sleep time is 7.10 hours, with a standard deviation of 1.44. Sleep time ranges from 1 to 24 hours."
      ],
      "metadata": {
        "id": "mV3fDCmbDNJF"
      }
    },
    {
      "cell_type": "markdown",
      "source": [
        "### pivoting"
      ],
      "metadata": {
        "id": "4SpYiLkDB0_u"
      }
    },
    {
      "cell_type": "code",
      "source": [
        "\n",
        "pivot_table = pd.pivot_table(heart_disease_data, values='BMI', index=['Sex', 'AlcoholDrinking'], aggfunc='mean')\n",
        "\n",
        "print(pivot_table)\n"
      ],
      "metadata": {
        "colab": {
          "base_uri": "https://localhost:8080/"
        },
        "id": "ycwkI3tlBxu2",
        "outputId": "5c6b48aa-3813-473c-d996-3d869c1bfaf2"
      },
      "execution_count": 46,
      "outputs": [
        {
          "output_type": "stream",
          "name": "stdout",
          "text": [
            "                              BMI\n",
            "Sex    AlcoholDrinking           \n",
            "Female No               28.265284\n",
            "       Yes              26.732297\n",
            "Male   No               28.532413\n",
            "       Yes              28.140912\n"
          ]
        }
      ]
    },
    {
      "cell_type": "code",
      "source": [
        "\n",
        "pivot_table = pd.pivot_table(heart_disease_data, values='BMI', index=['Sex', 'HeartDisease'], aggfunc='mean')\n",
        "\n",
        "print(pivot_table)"
      ],
      "metadata": {
        "colab": {
          "base_uri": "https://localhost:8080/"
        },
        "id": "7zq3s_rtB42z",
        "outputId": "4fe76f4a-e35d-4258-fe5d-34d5e8de11b0"
      },
      "execution_count": 47,
      "outputs": [
        {
          "output_type": "stream",
          "name": "stdout",
          "text": [
            "                           BMI\n",
            "Sex    HeartDisease           \n",
            "Female No            28.075363\n",
            "       Yes           29.375993\n",
            "Male   No            28.396724\n",
            "       Yes           29.419411\n"
          ]
        }
      ]
    },
    {
      "cell_type": "markdown",
      "source": [
        "### DATA Transformation"
      ],
      "metadata": {
        "id": "e1bYwL1NFddX"
      }
    },
    {
      "cell_type": "code",
      "source": [
        "heart_disease_data['HeartDisease'] = heart_disease_data['HeartDisease'].map({'Yes': 1, 'No': 0})"
      ],
      "metadata": {
        "id": "R6iOamK1FdLa"
      },
      "execution_count": 48,
      "outputs": []
    },
    {
      "cell_type": "code",
      "source": [
        "heart_disease_data['Confidence_limit_Low'] = heart_disease_data['Confidence_limit_Low'].replace('None', np.nan)\n",
        "\n",
        "heart_disease_data['Confidence_limit_Low'] = pd.to_numeric(heart_disease_data['Confidence_limit_Low'])\n",
        "\n",
        "mean_value = heart_disease_data['Confidence_limit_Low'].mean()\n",
        "\n",
        "heart_disease_data['Confidence_limit_Low'].fillna(mean_value, inplace=True)"
      ],
      "metadata": {
        "id": "cgr5i2ieJQ9A"
      },
      "execution_count": 49,
      "outputs": []
    },
    {
      "cell_type": "code",
      "source": [
        "heart_disease_data['Confidence_limit_High'] = heart_disease_data['Confidence_limit_High'].replace('None', np.nan)\n",
        "\n",
        "heart_disease_data['Confidence_limit_High'] = pd.to_numeric(heart_disease_data['Confidence_limit_High'])\n",
        "\n",
        "mean_value = heart_disease_data['Confidence_limit_High'].mean()\n",
        "\n",
        "heart_disease_data['Confidence_limit_High'].fillna(mean_value, inplace=True)"
      ],
      "metadata": {
        "id": "zDfwQQeyJnFE"
      },
      "execution_count": 50,
      "outputs": []
    },
    {
      "cell_type": "code",
      "source": [
        "heart_disease_data['Data_Value'] = heart_disease_data['Data_Value'].replace('None', np.nan)\n",
        "\n",
        "heart_disease_data['Data_Value'] = pd.to_numeric(heart_disease_data['Data_Value'])\n",
        "\n",
        "mean_value = heart_disease_data['Data_Value'].mean()\n",
        "\n",
        "heart_disease_data['Data_Value'].fillna(mean_value, inplace=True)"
      ],
      "metadata": {
        "id": "bJSilqbbJuwP"
      },
      "execution_count": 51,
      "outputs": []
    },
    {
      "cell_type": "code",
      "source": [
        "heart_disease_data['Smoking'] = heart_disease_data['Smoking'].map({'Yes': 1, 'No': 0})"
      ],
      "metadata": {
        "id": "ElZPP-sKHMuF"
      },
      "execution_count": 52,
      "outputs": []
    },
    {
      "cell_type": "code",
      "source": [
        "heart_disease_data['Smoking']"
      ],
      "metadata": {
        "colab": {
          "base_uri": "https://localhost:8080/"
        },
        "id": "2VrTGg0sKO02",
        "outputId": "59921f45-b725-4991-8d29-ddc083cd97d3"
      },
      "execution_count": 53,
      "outputs": [
        {
          "output_type": "execute_result",
          "data": {
            "text/plain": [
              "0         1\n",
              "1         0\n",
              "2         1\n",
              "3         0\n",
              "4         0\n",
              "         ..\n",
              "319790    1\n",
              "319791    1\n",
              "319792    0\n",
              "319793    0\n",
              "319794    0\n",
              "Name: Smoking, Length: 319795, dtype: int64"
            ]
          },
          "metadata": {},
          "execution_count": 53
        }
      ]
    },
    {
      "cell_type": "markdown",
      "source": [
        "###**DATA VISUALIZATION**\n",
        "\n",
        "\n",
        "Data visualization is the graphical representation of information and data through charts, graphs, and other visual elements. It serves the purpose of making complex datasets more understandable and accessible, allowing users to identify patterns, trends, and insights efficiently. Visualization is a powerful tool in the data analysis process, aiding in the communication of findings and supporting informed decision-making."
      ],
      "metadata": {
        "id": "x1POWdFOCJYW"
      }
    },
    {
      "cell_type": "code",
      "source": [
        "import matplotlib.pyplot as plt\n",
        "import seaborn as sns\n",
        "import plotly.express as px\n",
        "import plotly.graph_objects as go\n",
        "from plotly.subplots import make_subplots"
      ],
      "metadata": {
        "id": "5ZIlB_McfCcI"
      },
      "execution_count": 54,
      "outputs": []
    },
    {
      "cell_type": "code",
      "source": [
        "def add_pie_subplot(fig, data, feature, row, col):\n",
        "    color_schemes = {\n",
        "        'HeartDisease': ['#4285f4', '#ea4335', '#fbbc05', '#34a853'],\n",
        "        'Smoking': ['#4CAF50', '#FFC107', '#9C27B0', '#2196F3'],\n",
        "        'AlcoholDrinking': ['#FF5722', '#673AB7', '#3F51B5', '#009688'],\n",
        "        'Stroke': ['#795548', '#607D8B', '#FF9800', '#E91E63'],\n",
        "        'DiffWalking': ['#8BC34A', '#FFEB3B', '#FF5722', '#009688'],\n",
        "        'Sex': ['#FFC107', '#2196F3'],\n",
        "        'Race': ['#9C27B0', '#4CAF50', '#FF9800', '#E91E63'],\n",
        "        'Diabetic': ['#FF5722', '#673AB7', '#3F51B5', '#009688'],\n",
        "        'PhysicalActivity': ['#607D8B', '#FFEB3B', '#FFC107', '#8BC34A'],\n",
        "        'GenHealth': ['#2196F3', '#FFC107', '#FF5722', '#673AB7'],\n",
        "        'Asthma': ['#4CAF50', '#9C27B0', '#FF5722', '#607D8B'],\n",
        "        'KidneyDisease': ['#FF9800', '#E91E63', '#795548', '#3F51B5'],\n",
        "        'SkinCancer': ['#673AB7', '#FF5722', '#FFEB3B', '#8BC34A']\n",
        "    }\n",
        "\n",
        "    labels = np.array(data[feature].value_counts().index)\n",
        "    values = [x for x in data[feature].value_counts()]\n",
        "\n",
        "    fig.add_trace(go.Pie(labels=labels, values=values, hole=0.35,\n",
        "                         textinfo='label+percent', rotation=-45, marker_colors=color_schemes.get(feature, ['#4285f4', '#ea4335', '#fbbc05', '#34a853'])),\n",
        "                  row=row, col=col)\n",
        "\n",
        "fig = make_subplots(rows=7, cols=2, subplot_titles=(\"HeartDisease\", \"Smoking\",\n",
        "                                                    \"AlcoholDrinking\", \"Stroke\",\n",
        "                                                    \"DiffWalking\", \"Sex\",\n",
        "                                                    'Race', 'Diabetic',\n",
        "                                                    'PhysicalActivity', 'GenHealth',\n",
        "                                                    'Asthma', 'KidneyDisease', 'SkinCancer'),\n",
        "                    specs=[[{\"type\": \"domain\"}, {\"type\": \"domain\"}],\n",
        "                           [{\"type\": \"domain\"}, {\"type\": \"domain\"}],\n",
        "                           [{\"type\": \"domain\"}, {\"type\": \"domain\"}],\n",
        "                           [{\"type\": \"domain\"}, {\"type\": \"domain\"}],\n",
        "                           [{\"type\": \"domain\"}, {\"type\": \"domain\"}],\n",
        "                           [{\"type\": \"domain\"}, {\"type\": \"domain\"}],\n",
        "                           [{\"type\": \"domain\"}, {\"type\": \"domain\"}]])\n",
        "\n",
        "for i, feature in enumerate([\"HeartDisease\", \"Smoking\", \"AlcoholDrinking\", \"Stroke\",\n",
        "                             \"DiffWalking\", \"Sex\", 'Race', 'Diabetic',\n",
        "                             'PhysicalActivity', 'GenHealth', 'Asthma', 'KidneyDisease', 'SkinCancer']):\n",
        "    add_pie_subplot(fig, heart_disease_data, feature, i // 2 + 1, i % 2 + 1)\n",
        "\n",
        "fig.update_layout(height=3200, font=dict(size=14), showlegend=False)\n",
        "fig.show()\n"
      ],
      "metadata": {
        "colab": {
          "base_uri": "https://localhost:8080/",
          "height": 1000
        },
        "id": "XWO9kxIKer1f",
        "outputId": "c2625962-0cd5-416f-a935-e3d69399bbf6"
      },
      "execution_count": 55,
      "outputs": [
        {
          "output_type": "display_data",
          "data": {
            "text/html": [
              "<html>\n",
              "<head><meta charset=\"utf-8\" /></head>\n",
              "<body>\n",
              "    <div>            <script src=\"https://cdnjs.cloudflare.com/ajax/libs/mathjax/2.7.5/MathJax.js?config=TeX-AMS-MML_SVG\"></script><script type=\"text/javascript\">if (window.MathJax && window.MathJax.Hub && window.MathJax.Hub.Config) {window.MathJax.Hub.Config({SVG: {font: \"STIX-Web\"}});}</script>                <script type=\"text/javascript\">window.PlotlyConfig = {MathJaxConfig: 'local'};</script>\n",
              "        <script charset=\"utf-8\" src=\"https://cdn.plot.ly/plotly-2.24.1.min.js\"></script>                <div id=\"23d65ee6-0b20-4a6c-a547-f5d6f96d0852\" class=\"plotly-graph-div\" style=\"height:3200px; width:100%;\"></div>            <script type=\"text/javascript\">                                    window.PLOTLYENV=window.PLOTLYENV || {};                                    if (document.getElementById(\"23d65ee6-0b20-4a6c-a547-f5d6f96d0852\")) {                    Plotly.newPlot(                        \"23d65ee6-0b20-4a6c-a547-f5d6f96d0852\",                        [{\"hole\":0.35,\"labels\":[0,1],\"marker\":{\"colors\":[\"#4285f4\",\"#ea4335\",\"#fbbc05\",\"#34a853\"]},\"rotation\":-45,\"textinfo\":\"label+percent\",\"values\":[292422,27373],\"type\":\"pie\",\"domain\":{\"x\":[0.0,0.45],\"y\":[0.9183673469387754,0.9999999999999999]}},{\"hole\":0.35,\"labels\":[0,1],\"marker\":{\"colors\":[\"#4CAF50\",\"#FFC107\",\"#9C27B0\",\"#2196F3\"]},\"rotation\":-45,\"textinfo\":\"label+percent\",\"values\":[187887,131908],\"type\":\"pie\",\"domain\":{\"x\":[0.55,1.0],\"y\":[0.9183673469387754,0.9999999999999999]}},{\"hole\":0.35,\"labels\":[\"No\",\"Yes\"],\"marker\":{\"colors\":[\"#FF5722\",\"#673AB7\",\"#3F51B5\",\"#009688\"]},\"rotation\":-45,\"textinfo\":\"label+percent\",\"values\":[298018,21777],\"type\":\"pie\",\"domain\":{\"x\":[0.0,0.45],\"y\":[0.7653061224489794,0.8469387755102039]}},{\"hole\":0.35,\"labels\":[\"No\",\"Yes\"],\"marker\":{\"colors\":[\"#795548\",\"#607D8B\",\"#FF9800\",\"#E91E63\"]},\"rotation\":-45,\"textinfo\":\"label+percent\",\"values\":[307726,12069],\"type\":\"pie\",\"domain\":{\"x\":[0.55,1.0],\"y\":[0.7653061224489794,0.8469387755102039]}},{\"hole\":0.35,\"labels\":[\"No\",\"Yes\"],\"marker\":{\"colors\":[\"#8BC34A\",\"#FFEB3B\",\"#FF5722\",\"#009688\"]},\"rotation\":-45,\"textinfo\":\"label+percent\",\"values\":[275385,44410],\"type\":\"pie\",\"domain\":{\"x\":[0.0,0.45],\"y\":[0.6122448979591837,0.6938775510204082]}},{\"hole\":0.35,\"labels\":[\"Female\",\"Male\"],\"marker\":{\"colors\":[\"#FFC107\",\"#2196F3\"]},\"rotation\":-45,\"textinfo\":\"label+percent\",\"values\":[167805,151990],\"type\":\"pie\",\"domain\":{\"x\":[0.55,1.0],\"y\":[0.6122448979591837,0.6938775510204082]}},{\"hole\":0.35,\"labels\":[\"White\",\"Hispanic\",\"Black\",\"Other\",\"Asian\",\"American Indian\\u002fAlaskan Native\"],\"marker\":{\"colors\":[\"#9C27B0\",\"#4CAF50\",\"#FF9800\",\"#E91E63\"]},\"rotation\":-45,\"textinfo\":\"label+percent\",\"values\":[245212,27446,22939,10928,8068,5202],\"type\":\"pie\",\"domain\":{\"x\":[0.0,0.45],\"y\":[0.4591836734693877,0.5408163265306122]}},{\"hole\":0.35,\"labels\":[\"No\",\"Yes\",\"No, borderline diabetes\",\"Yes (during pregnancy)\"],\"marker\":{\"colors\":[\"#FF5722\",\"#673AB7\",\"#3F51B5\",\"#009688\"]},\"rotation\":-45,\"textinfo\":\"label+percent\",\"values\":[269653,40802,6781,2559],\"type\":\"pie\",\"domain\":{\"x\":[0.55,1.0],\"y\":[0.4591836734693877,0.5408163265306122]}},{\"hole\":0.35,\"labels\":[\"Yes\",\"No\"],\"marker\":{\"colors\":[\"#607D8B\",\"#FFEB3B\",\"#FFC107\",\"#8BC34A\"]},\"rotation\":-45,\"textinfo\":\"label+percent\",\"values\":[247957,71838],\"type\":\"pie\",\"domain\":{\"x\":[0.0,0.45],\"y\":[0.30612244897959184,0.3877551020408163]}},{\"hole\":0.35,\"labels\":[\"Very good\",\"Good\",\"Excellent\",\"Fair\",\"Poor\"],\"marker\":{\"colors\":[\"#2196F3\",\"#FFC107\",\"#FF5722\",\"#673AB7\"]},\"rotation\":-45,\"textinfo\":\"label+percent\",\"values\":[113858,93129,66842,34677,11289],\"type\":\"pie\",\"domain\":{\"x\":[0.55,1.0],\"y\":[0.30612244897959184,0.3877551020408163]}},{\"hole\":0.35,\"labels\":[\"No\",\"Yes\"],\"marker\":{\"colors\":[\"#4CAF50\",\"#9C27B0\",\"#FF5722\",\"#607D8B\"]},\"rotation\":-45,\"textinfo\":\"label+percent\",\"values\":[276923,42872],\"type\":\"pie\",\"domain\":{\"x\":[0.0,0.45],\"y\":[0.15306122448979592,0.2346938775510204]}},{\"hole\":0.35,\"labels\":[\"No\",\"Yes\"],\"marker\":{\"colors\":[\"#FF9800\",\"#E91E63\",\"#795548\",\"#3F51B5\"]},\"rotation\":-45,\"textinfo\":\"label+percent\",\"values\":[308016,11779],\"type\":\"pie\",\"domain\":{\"x\":[0.55,1.0],\"y\":[0.15306122448979592,0.2346938775510204]}},{\"hole\":0.35,\"labels\":[\"No\",\"Yes\"],\"marker\":{\"colors\":[\"#673AB7\",\"#FF5722\",\"#FFEB3B\",\"#8BC34A\"]},\"rotation\":-45,\"textinfo\":\"label+percent\",\"values\":[289976,29819],\"type\":\"pie\",\"domain\":{\"x\":[0.0,0.45],\"y\":[0.0,0.08163265306122448]}}],                        {\"template\":{\"data\":{\"histogram2dcontour\":[{\"type\":\"histogram2dcontour\",\"colorbar\":{\"outlinewidth\":0,\"ticks\":\"\"},\"colorscale\":[[0.0,\"#0d0887\"],[0.1111111111111111,\"#46039f\"],[0.2222222222222222,\"#7201a8\"],[0.3333333333333333,\"#9c179e\"],[0.4444444444444444,\"#bd3786\"],[0.5555555555555556,\"#d8576b\"],[0.6666666666666666,\"#ed7953\"],[0.7777777777777778,\"#fb9f3a\"],[0.8888888888888888,\"#fdca26\"],[1.0,\"#f0f921\"]]}],\"choropleth\":[{\"type\":\"choropleth\",\"colorbar\":{\"outlinewidth\":0,\"ticks\":\"\"}}],\"histogram2d\":[{\"type\":\"histogram2d\",\"colorbar\":{\"outlinewidth\":0,\"ticks\":\"\"},\"colorscale\":[[0.0,\"#0d0887\"],[0.1111111111111111,\"#46039f\"],[0.2222222222222222,\"#7201a8\"],[0.3333333333333333,\"#9c179e\"],[0.4444444444444444,\"#bd3786\"],[0.5555555555555556,\"#d8576b\"],[0.6666666666666666,\"#ed7953\"],[0.7777777777777778,\"#fb9f3a\"],[0.8888888888888888,\"#fdca26\"],[1.0,\"#f0f921\"]]}],\"heatmap\":[{\"type\":\"heatmap\",\"colorbar\":{\"outlinewidth\":0,\"ticks\":\"\"},\"colorscale\":[[0.0,\"#0d0887\"],[0.1111111111111111,\"#46039f\"],[0.2222222222222222,\"#7201a8\"],[0.3333333333333333,\"#9c179e\"],[0.4444444444444444,\"#bd3786\"],[0.5555555555555556,\"#d8576b\"],[0.6666666666666666,\"#ed7953\"],[0.7777777777777778,\"#fb9f3a\"],[0.8888888888888888,\"#fdca26\"],[1.0,\"#f0f921\"]]}],\"heatmapgl\":[{\"type\":\"heatmapgl\",\"colorbar\":{\"outlinewidth\":0,\"ticks\":\"\"},\"colorscale\":[[0.0,\"#0d0887\"],[0.1111111111111111,\"#46039f\"],[0.2222222222222222,\"#7201a8\"],[0.3333333333333333,\"#9c179e\"],[0.4444444444444444,\"#bd3786\"],[0.5555555555555556,\"#d8576b\"],[0.6666666666666666,\"#ed7953\"],[0.7777777777777778,\"#fb9f3a\"],[0.8888888888888888,\"#fdca26\"],[1.0,\"#f0f921\"]]}],\"contourcarpet\":[{\"type\":\"contourcarpet\",\"colorbar\":{\"outlinewidth\":0,\"ticks\":\"\"}}],\"contour\":[{\"type\":\"contour\",\"colorbar\":{\"outlinewidth\":0,\"ticks\":\"\"},\"colorscale\":[[0.0,\"#0d0887\"],[0.1111111111111111,\"#46039f\"],[0.2222222222222222,\"#7201a8\"],[0.3333333333333333,\"#9c179e\"],[0.4444444444444444,\"#bd3786\"],[0.5555555555555556,\"#d8576b\"],[0.6666666666666666,\"#ed7953\"],[0.7777777777777778,\"#fb9f3a\"],[0.8888888888888888,\"#fdca26\"],[1.0,\"#f0f921\"]]}],\"surface\":[{\"type\":\"surface\",\"colorbar\":{\"outlinewidth\":0,\"ticks\":\"\"},\"colorscale\":[[0.0,\"#0d0887\"],[0.1111111111111111,\"#46039f\"],[0.2222222222222222,\"#7201a8\"],[0.3333333333333333,\"#9c179e\"],[0.4444444444444444,\"#bd3786\"],[0.5555555555555556,\"#d8576b\"],[0.6666666666666666,\"#ed7953\"],[0.7777777777777778,\"#fb9f3a\"],[0.8888888888888888,\"#fdca26\"],[1.0,\"#f0f921\"]]}],\"mesh3d\":[{\"type\":\"mesh3d\",\"colorbar\":{\"outlinewidth\":0,\"ticks\":\"\"}}],\"scatter\":[{\"fillpattern\":{\"fillmode\":\"overlay\",\"size\":10,\"solidity\":0.2},\"type\":\"scatter\"}],\"parcoords\":[{\"type\":\"parcoords\",\"line\":{\"colorbar\":{\"outlinewidth\":0,\"ticks\":\"\"}}}],\"scatterpolargl\":[{\"type\":\"scatterpolargl\",\"marker\":{\"colorbar\":{\"outlinewidth\":0,\"ticks\":\"\"}}}],\"bar\":[{\"error_x\":{\"color\":\"#2a3f5f\"},\"error_y\":{\"color\":\"#2a3f5f\"},\"marker\":{\"line\":{\"color\":\"#E5ECF6\",\"width\":0.5},\"pattern\":{\"fillmode\":\"overlay\",\"size\":10,\"solidity\":0.2}},\"type\":\"bar\"}],\"scattergeo\":[{\"type\":\"scattergeo\",\"marker\":{\"colorbar\":{\"outlinewidth\":0,\"ticks\":\"\"}}}],\"scatterpolar\":[{\"type\":\"scatterpolar\",\"marker\":{\"colorbar\":{\"outlinewidth\":0,\"ticks\":\"\"}}}],\"histogram\":[{\"marker\":{\"pattern\":{\"fillmode\":\"overlay\",\"size\":10,\"solidity\":0.2}},\"type\":\"histogram\"}],\"scattergl\":[{\"type\":\"scattergl\",\"marker\":{\"colorbar\":{\"outlinewidth\":0,\"ticks\":\"\"}}}],\"scatter3d\":[{\"type\":\"scatter3d\",\"line\":{\"colorbar\":{\"outlinewidth\":0,\"ticks\":\"\"}},\"marker\":{\"colorbar\":{\"outlinewidth\":0,\"ticks\":\"\"}}}],\"scattermapbox\":[{\"type\":\"scattermapbox\",\"marker\":{\"colorbar\":{\"outlinewidth\":0,\"ticks\":\"\"}}}],\"scatterternary\":[{\"type\":\"scatterternary\",\"marker\":{\"colorbar\":{\"outlinewidth\":0,\"ticks\":\"\"}}}],\"scattercarpet\":[{\"type\":\"scattercarpet\",\"marker\":{\"colorbar\":{\"outlinewidth\":0,\"ticks\":\"\"}}}],\"carpet\":[{\"aaxis\":{\"endlinecolor\":\"#2a3f5f\",\"gridcolor\":\"white\",\"linecolor\":\"white\",\"minorgridcolor\":\"white\",\"startlinecolor\":\"#2a3f5f\"},\"baxis\":{\"endlinecolor\":\"#2a3f5f\",\"gridcolor\":\"white\",\"linecolor\":\"white\",\"minorgridcolor\":\"white\",\"startlinecolor\":\"#2a3f5f\"},\"type\":\"carpet\"}],\"table\":[{\"cells\":{\"fill\":{\"color\":\"#EBF0F8\"},\"line\":{\"color\":\"white\"}},\"header\":{\"fill\":{\"color\":\"#C8D4E3\"},\"line\":{\"color\":\"white\"}},\"type\":\"table\"}],\"barpolar\":[{\"marker\":{\"line\":{\"color\":\"#E5ECF6\",\"width\":0.5},\"pattern\":{\"fillmode\":\"overlay\",\"size\":10,\"solidity\":0.2}},\"type\":\"barpolar\"}],\"pie\":[{\"automargin\":true,\"type\":\"pie\"}]},\"layout\":{\"autotypenumbers\":\"strict\",\"colorway\":[\"#636efa\",\"#EF553B\",\"#00cc96\",\"#ab63fa\",\"#FFA15A\",\"#19d3f3\",\"#FF6692\",\"#B6E880\",\"#FF97FF\",\"#FECB52\"],\"font\":{\"color\":\"#2a3f5f\"},\"hovermode\":\"closest\",\"hoverlabel\":{\"align\":\"left\"},\"paper_bgcolor\":\"white\",\"plot_bgcolor\":\"#E5ECF6\",\"polar\":{\"bgcolor\":\"#E5ECF6\",\"angularaxis\":{\"gridcolor\":\"white\",\"linecolor\":\"white\",\"ticks\":\"\"},\"radialaxis\":{\"gridcolor\":\"white\",\"linecolor\":\"white\",\"ticks\":\"\"}},\"ternary\":{\"bgcolor\":\"#E5ECF6\",\"aaxis\":{\"gridcolor\":\"white\",\"linecolor\":\"white\",\"ticks\":\"\"},\"baxis\":{\"gridcolor\":\"white\",\"linecolor\":\"white\",\"ticks\":\"\"},\"caxis\":{\"gridcolor\":\"white\",\"linecolor\":\"white\",\"ticks\":\"\"}},\"coloraxis\":{\"colorbar\":{\"outlinewidth\":0,\"ticks\":\"\"}},\"colorscale\":{\"sequential\":[[0.0,\"#0d0887\"],[0.1111111111111111,\"#46039f\"],[0.2222222222222222,\"#7201a8\"],[0.3333333333333333,\"#9c179e\"],[0.4444444444444444,\"#bd3786\"],[0.5555555555555556,\"#d8576b\"],[0.6666666666666666,\"#ed7953\"],[0.7777777777777778,\"#fb9f3a\"],[0.8888888888888888,\"#fdca26\"],[1.0,\"#f0f921\"]],\"sequentialminus\":[[0.0,\"#0d0887\"],[0.1111111111111111,\"#46039f\"],[0.2222222222222222,\"#7201a8\"],[0.3333333333333333,\"#9c179e\"],[0.4444444444444444,\"#bd3786\"],[0.5555555555555556,\"#d8576b\"],[0.6666666666666666,\"#ed7953\"],[0.7777777777777778,\"#fb9f3a\"],[0.8888888888888888,\"#fdca26\"],[1.0,\"#f0f921\"]],\"diverging\":[[0,\"#8e0152\"],[0.1,\"#c51b7d\"],[0.2,\"#de77ae\"],[0.3,\"#f1b6da\"],[0.4,\"#fde0ef\"],[0.5,\"#f7f7f7\"],[0.6,\"#e6f5d0\"],[0.7,\"#b8e186\"],[0.8,\"#7fbc41\"],[0.9,\"#4d9221\"],[1,\"#276419\"]]},\"xaxis\":{\"gridcolor\":\"white\",\"linecolor\":\"white\",\"ticks\":\"\",\"title\":{\"standoff\":15},\"zerolinecolor\":\"white\",\"automargin\":true,\"zerolinewidth\":2},\"yaxis\":{\"gridcolor\":\"white\",\"linecolor\":\"white\",\"ticks\":\"\",\"title\":{\"standoff\":15},\"zerolinecolor\":\"white\",\"automargin\":true,\"zerolinewidth\":2},\"scene\":{\"xaxis\":{\"backgroundcolor\":\"#E5ECF6\",\"gridcolor\":\"white\",\"linecolor\":\"white\",\"showbackground\":true,\"ticks\":\"\",\"zerolinecolor\":\"white\",\"gridwidth\":2},\"yaxis\":{\"backgroundcolor\":\"#E5ECF6\",\"gridcolor\":\"white\",\"linecolor\":\"white\",\"showbackground\":true,\"ticks\":\"\",\"zerolinecolor\":\"white\",\"gridwidth\":2},\"zaxis\":{\"backgroundcolor\":\"#E5ECF6\",\"gridcolor\":\"white\",\"linecolor\":\"white\",\"showbackground\":true,\"ticks\":\"\",\"zerolinecolor\":\"white\",\"gridwidth\":2}},\"shapedefaults\":{\"line\":{\"color\":\"#2a3f5f\"}},\"annotationdefaults\":{\"arrowcolor\":\"#2a3f5f\",\"arrowhead\":0,\"arrowwidth\":1},\"geo\":{\"bgcolor\":\"white\",\"landcolor\":\"#E5ECF6\",\"subunitcolor\":\"white\",\"showland\":true,\"showlakes\":true,\"lakecolor\":\"white\"},\"title\":{\"x\":0.05},\"mapbox\":{\"style\":\"light\"}}},\"annotations\":[{\"font\":{\"size\":16},\"showarrow\":false,\"text\":\"HeartDisease\",\"x\":0.225,\"xanchor\":\"center\",\"xref\":\"paper\",\"y\":0.9999999999999999,\"yanchor\":\"bottom\",\"yref\":\"paper\"},{\"font\":{\"size\":16},\"showarrow\":false,\"text\":\"Smoking\",\"x\":0.775,\"xanchor\":\"center\",\"xref\":\"paper\",\"y\":0.9999999999999999,\"yanchor\":\"bottom\",\"yref\":\"paper\"},{\"font\":{\"size\":16},\"showarrow\":false,\"text\":\"AlcoholDrinking\",\"x\":0.225,\"xanchor\":\"center\",\"xref\":\"paper\",\"y\":0.8469387755102039,\"yanchor\":\"bottom\",\"yref\":\"paper\"},{\"font\":{\"size\":16},\"showarrow\":false,\"text\":\"Stroke\",\"x\":0.775,\"xanchor\":\"center\",\"xref\":\"paper\",\"y\":0.8469387755102039,\"yanchor\":\"bottom\",\"yref\":\"paper\"},{\"font\":{\"size\":16},\"showarrow\":false,\"text\":\"DiffWalking\",\"x\":0.225,\"xanchor\":\"center\",\"xref\":\"paper\",\"y\":0.6938775510204082,\"yanchor\":\"bottom\",\"yref\":\"paper\"},{\"font\":{\"size\":16},\"showarrow\":false,\"text\":\"Sex\",\"x\":0.775,\"xanchor\":\"center\",\"xref\":\"paper\",\"y\":0.6938775510204082,\"yanchor\":\"bottom\",\"yref\":\"paper\"},{\"font\":{\"size\":16},\"showarrow\":false,\"text\":\"Race\",\"x\":0.225,\"xanchor\":\"center\",\"xref\":\"paper\",\"y\":0.5408163265306122,\"yanchor\":\"bottom\",\"yref\":\"paper\"},{\"font\":{\"size\":16},\"showarrow\":false,\"text\":\"Diabetic\",\"x\":0.775,\"xanchor\":\"center\",\"xref\":\"paper\",\"y\":0.5408163265306122,\"yanchor\":\"bottom\",\"yref\":\"paper\"},{\"font\":{\"size\":16},\"showarrow\":false,\"text\":\"PhysicalActivity\",\"x\":0.225,\"xanchor\":\"center\",\"xref\":\"paper\",\"y\":0.3877551020408163,\"yanchor\":\"bottom\",\"yref\":\"paper\"},{\"font\":{\"size\":16},\"showarrow\":false,\"text\":\"GenHealth\",\"x\":0.775,\"xanchor\":\"center\",\"xref\":\"paper\",\"y\":0.3877551020408163,\"yanchor\":\"bottom\",\"yref\":\"paper\"},{\"font\":{\"size\":16},\"showarrow\":false,\"text\":\"Asthma\",\"x\":0.225,\"xanchor\":\"center\",\"xref\":\"paper\",\"y\":0.2346938775510204,\"yanchor\":\"bottom\",\"yref\":\"paper\"},{\"font\":{\"size\":16},\"showarrow\":false,\"text\":\"KidneyDisease\",\"x\":0.775,\"xanchor\":\"center\",\"xref\":\"paper\",\"y\":0.2346938775510204,\"yanchor\":\"bottom\",\"yref\":\"paper\"},{\"font\":{\"size\":16},\"showarrow\":false,\"text\":\"SkinCancer\",\"x\":0.225,\"xanchor\":\"center\",\"xref\":\"paper\",\"y\":0.08163265306122448,\"yanchor\":\"bottom\",\"yref\":\"paper\"}],\"font\":{\"size\":14},\"height\":3200,\"showlegend\":false},                        {\"responsive\": true}                    ).then(function(){\n",
              "                            \n",
              "var gd = document.getElementById('23d65ee6-0b20-4a6c-a547-f5d6f96d0852');\n",
              "var x = new MutationObserver(function (mutations, observer) {{\n",
              "        var display = window.getComputedStyle(gd).display;\n",
              "        if (!display || display === 'none') {{\n",
              "            console.log([gd, 'removed!']);\n",
              "            Plotly.purge(gd);\n",
              "            observer.disconnect();\n",
              "        }}\n",
              "}});\n",
              "\n",
              "// Listen for the removal of the full notebook cells\n",
              "var notebookContainer = gd.closest('#notebook-container');\n",
              "if (notebookContainer) {{\n",
              "    x.observe(notebookContainer, {childList: true});\n",
              "}}\n",
              "\n",
              "// Listen for the clearing of the current output cell\n",
              "var outputEl = gd.closest('.output');\n",
              "if (outputEl) {{\n",
              "    x.observe(outputEl, {childList: true});\n",
              "}}\n",
              "\n",
              "                        })                };                            </script>        </div>\n",
              "</body>\n",
              "</html>"
            ]
          },
          "metadata": {}
        }
      ]
    },
    {
      "cell_type": "markdown",
      "source": [
        "\n",
        "The code generates a subplot grid of pie charts, each representing the distribution of a specific health-related variable in the 'heart_disease_data' dataset. The resulting visualization provides insights into the prevalence of different health conditions and risk factors among the surveyed individuals.\n",
        "\n",
        "\n",
        "The pie chart provides insights into responses regarding whether individuals have been informed by a doctor about experiencing a heart attack. The data is segmented by both gender and age groups, yielding the following details:\n",
        "\n",
        "**Overall:**\n",
        "\n",
        "Approximately 1.8% of women acknowledged having a history of heart attacks.\n",
        "\n",
        "Notably, men reported a higher percentage (2.6%) compared to women (1.0%).\n",
        "Age Groups:\n",
        "\n",
        "The likelihood of women having experienced a heart attack rises with age.\n",
        "\n",
        "For instance, only 0.2% of women aged 18-24 reported a heart attack history, contrasting with 5.2% of women aged 65 and above.\n",
        "Gender:\n",
        "\n",
        "Confirming the earlier trend, men consistently show a higher percentage of reported heart attacks compared to women.\n",
        "\n",
        "This distinction is particularly pronounced in younger age groups. For example, 0.4% of women aged 18-24 disclosed a history of heart attacks, while 1.0% of men in the same age bracket reported similar experiences."
      ],
      "metadata": {
        "id": "GWQripU4DtsU"
      }
    },
    {
      "cell_type": "code",
      "source": [
        "\n",
        "\n",
        "def plot_box_and_hist(data, feature, colors):\n",
        "    f, (ax_box1, ax_box2, ax_hist) = plt.subplots(3, sharex=True, gridspec_kw={\"height_ratios\": (.15, .15, .85)})\n",
        "\n",
        "    sns.boxplot(x=data[data['HeartDisease']==1][feature], ax=ax_box1, color=colors[0])\n",
        "    sns.histplot(data[data['HeartDisease']==1], x=feature, ax=ax_hist, kde=True, color=colors[0])\n",
        "\n",
        "    sns.boxplot(x=data[data['HeartDisease']==0][feature], ax=ax_box2, color=colors[1])\n",
        "    sns.histplot(data[data['HeartDisease']==0], x=feature, ax=ax_hist, kde=True, color=colors[1])\n",
        "\n",
        "    ax_box1.set(xlabel='')\n",
        "    ax_box2.set(xlabel='')\n",
        "\n",
        "    plt.legend(title='', loc=2, labels=['Heart Disease', 'No HeartDisease'], bbox_to_anchor=(1.02, 1), borderaxespad=0.)\n",
        "    plt.show()\n",
        "\n",
        "sns.set(style=\"darkgrid\")\n",
        "sns.set(rc={'figure.figsize':(16,8)})\n",
        "\n",
        "colors = ['#4285f4', '#ea4335']\n",
        "\n",
        "plot_box_and_hist(heart_disease_data, 'BMI', colors)\n"
      ],
      "metadata": {
        "colab": {
          "base_uri": "https://localhost:8080/",
          "height": 704
        },
        "id": "qMp9Ttx9ff-M",
        "outputId": "463c7332-4d16-46d9-bc44-c3ef993e2afe"
      },
      "execution_count": 56,
      "outputs": [
        {
          "output_type": "display_data",
          "data": {
            "text/plain": [
              "<Figure size 1600x800 with 3 Axes>"
            ],
            "image/png": "[encoded data removed]"
          },
          "metadata": {}
        }
      ]
    },
    {
      "cell_type": "code",
      "source": [
        "import seaborn as sns\n",
        "import matplotlib.pyplot as plt\n",
        "\n",
        "def plot_kde(data, feature, colors, label_names):\n",
        "    fig, ax = plt.subplots(figsize=(13, 5))\n",
        "\n",
        "    for i, label in enumerate(label_names):\n",
        "        sns.kdeplot(data[data[\"HeartDisease\"]==label][feature], alpha=0.5, shade=True, color=colors[i], label=label, ax=ax)\n",
        "\n",
        "    ax.set_xlabel(feature)\n",
        "    ax.set_ylabel(\"Frequency\")\n",
        "    ax.legend(bbox_to_anchor=(1.02, 1), loc=2, borderaxespad=0.)\n",
        "    plt.show()\n",
        "\n",
        "colors = ['#4285f5', '#ea4335']\n",
        "label_names = [0, 1]\n",
        "\n",
        "plot_kde(heart_disease_data, 'SleepTime', colors, label_names)\n"
      ],
      "metadata": {
        "colab": {
          "base_uri": "https://localhost:8080/",
          "height": 765
        },
        "id": "U6epGwAfhloi",
        "outputId": "bbce49e3-8ba1-4a5d-e572-eb852c450ed9"
      },
      "execution_count": 57,
      "outputs": [
        {
          "output_type": "stream",
          "name": "stderr",
          "text": [
            "<ipython-input-57-048cff75a865>:8: FutureWarning:\n",
            "\n",
            "\n",
            "\n",
            "`shade` is now deprecated in favor of `fill`; setting `fill=True`.\n",
            "This will become an error in seaborn v0.14.0; please update your code.\n",
            "\n",
            "\n",
            "<ipython-input-57-048cff75a865>:8: FutureWarning:\n",
            "\n",
            "\n",
            "\n",
            "`shade` is now deprecated in favor of `fill`; setting `fill=True`.\n",
            "This will become an error in seaborn v0.14.0; please update your code.\n",
            "\n",
            "\n"
          ]
        },
        {
          "output_type": "display_data",
          "data": {
            "text/plain": [
              "<Figure size 1300x500 with 1 Axes>"
            ],
            "image/png": "[encoded data removed]"
          },
          "metadata": {}
        }
      ]
    },
    {
      "cell_type": "code",
      "source": [
        "\n",
        "def plot_mental_health_kde(data, feature, colors, label_names):\n",
        "    fig, ax = plt.subplots(figsize=(13, 5))\n",
        "\n",
        "    for i, label in enumerate(label_names):\n",
        "        sns.kdeplot(data[data[\"HeartDisease\"]==label][feature], alpha=0.5, shade=True, color=colors[i], label=label, ax=ax)\n",
        "\n",
        "    ax.set_xlabel(feature)\n",
        "    ax.set_ylabel(\"Frequency\")\n",
        "    ax.legend(bbox_to_anchor=(1.02, 1), loc=2, borderaxespad=0.)\n",
        "    plt.show()\n",
        "\n",
        "# Define colors and label names\n",
        "colors = ['#4285f4', '#ea4335']\n",
        "label_names = [0, 1]\n",
        "\n",
        "# Call the function with your data and feature\n",
        "plot_mental_health_kde(heart_disease_data, 'MentalHealth', colors, label_names)\n"
      ],
      "metadata": {
        "colab": {
          "base_uri": "https://localhost:8080/",
          "height": 765
        },
        "id": "zxNUfLJBhxCj",
        "outputId": "6e9ce3da-9993-4fd2-e3f4-1983e9b54e97"
      },
      "execution_count": 58,
      "outputs": [
        {
          "output_type": "stream",
          "name": "stderr",
          "text": [
            "<ipython-input-58-d80bf44331c3>:5: FutureWarning:\n",
            "\n",
            "\n",
            "\n",
            "`shade` is now deprecated in favor of `fill`; setting `fill=True`.\n",
            "This will become an error in seaborn v0.14.0; please update your code.\n",
            "\n",
            "\n",
            "<ipython-input-58-d80bf44331c3>:5: FutureWarning:\n",
            "\n",
            "\n",
            "\n",
            "`shade` is now deprecated in favor of `fill`; setting `fill=True`.\n",
            "This will become an error in seaborn v0.14.0; please update your code.\n",
            "\n",
            "\n"
          ]
        },
        {
          "output_type": "display_data",
          "data": {
            "text/plain": [
              "<Figure size 1300x500 with 1 Axes>"
            ],
            "image/png": "[encoded data removed]"
          },
          "metadata": {}
        }
      ]
    },
    {
      "cell_type": "code",
      "source": [
        "import seaborn as sns\n",
        "import matplotlib.pyplot as plt\n",
        "\n",
        "plt.figure(figsize=(10, 6))\n",
        "\n",
        "sns.countplot(\n",
        "    x=\"Sex\",\n",
        "    hue=\"HeartDisease\",\n",
        "    data=heart_disease_data,\n",
        "    palette={0: \"#4285f4\", 1: \"#ea1000\"}\n",
        ")\n",
        "\n",
        "plt.xlabel(\"Sex\")\n",
        "plt.ylabel(\"Count\")\n",
        "plt.legend(title=\"Heart Disease\", loc=\"upper right\")\n",
        "\n",
        "plt.show()\n"
      ],
      "metadata": {
        "colab": {
          "base_uri": "https://localhost:8080/",
          "height": 550
        },
        "id": "ZAueNeLTh_Jz",
        "outputId": "c1aa8ce5-6a20-45e8-9224-c0b0f9c8982f"
      },
      "execution_count": 59,
      "outputs": [
        {
          "output_type": "display_data",
          "data": {
            "text/plain": [
              "<Figure size 1000x600 with 1 Axes>"
            ],
            "image/png": "[encoded data removed]"
          },
          "metadata": {}
        }
      ]
    },
    {
      "cell_type": "markdown",
      "source": [
        "The countplot from the Seaborn library is used to create a bar plot to visualize the distribution of individuals with and without heart disease based on gender.\n",
        "\n",
        "X-axis (x=\"Sex\"): The x-axis represents the categorical variable \"Sex,\" which likely contains two categories, presumably \"Male\" and \"Female.\" Each bar on the x-axis corresponds to one of these categories.\n",
        "\n",
        "Y-axis (y=\"Count\"): The y-axis represents the count or frequency of individuals falling into each category on the x-axis. The count indicates how many individuals are present for each gender category.\n",
        "\n",
        "The resulting plot visually compares the distribution of heart disease among different genders. Each bar represents the count of individuals for a specific gender, and the bars are split into two sections, each colored according to the presence or absence of heart disease."
      ],
      "metadata": {
        "id": "5v2OqWVfNoYV"
      }
    },
    {
      "cell_type": "code",
      "source": [
        "female_heart_disease_count = len(heart_disease_data[(heart_disease_data['HeartDisease'] == 1) & (heart_disease_data['Sex'] == 'Female')])\n",
        "total_female_count = len(heart_disease_data[heart_disease_data['Sex'] == 'Female'])\n",
        "\n",
        "male_heart_disease_count = len(heart_disease_data[(heart_disease_data['HeartDisease'] == 1) & (heart_disease_data['Sex'] == 'Male')])\n",
        "total_male_count = len(heart_disease_data[heart_disease_data['Sex'] == 'Male'])\n",
        "\n",
        "probability_male_heart_disease = male_heart_disease_count / total_male_count\n",
        "print('Probability of Males having Heart Disease:', probability_male_heart_disease)\n",
        "\n",
        "probability_female_heart_disease = female_heart_disease_count / total_female_count\n",
        "print('Probability of Females having Heart Disease:', probability_female_heart_disease)\n"
      ],
      "metadata": {
        "colab": {
          "base_uri": "https://localhost:8080/"
        },
        "id": "WQmro7UQiJlK",
        "outputId": "04d13e30-b6e4-42db-c903-508d7eccce57"
      },
      "execution_count": 60,
      "outputs": [
        {
          "output_type": "stream",
          "name": "stdout",
          "text": [
            "Probability of Males having Heart Disease: 0.10618461740904007\n",
            "Probability of Females having Heart Disease: 0.06694675367241738\n"
          ]
        }
      ]
    },
    {
      "cell_type": "code",
      "source": [
        "fig, ax = plt.subplots(figsize = (10,6))\n",
        "\n",
        "ax.hist(heart_disease_data[heart_disease_data[\"HeartDisease\"]==0][\"Smoking\"], bins=3, alpha=0.8, color=\"#4285f4\", label=\"No HeartDisease\")\n",
        "ax.hist(heart_disease_data[heart_disease_data[\"HeartDisease\"]==1][\"Smoking\"], bins=3, alpha=1, color=\"#ea4335\", label=\"HeartDisease\")\n",
        "\n",
        "ax.set_xlabel(\"Smoking\")\n",
        "ax.set_ylabel(\"Frequency\")\n",
        "\n",
        "ax.legend(bbox_to_anchor=(1.02, 1), loc=2, borderaxespad=0.)"
      ],
      "metadata": {
        "colab": {
          "base_uri": "https://localhost:8080/",
          "height": 568
        },
        "id": "BhSdPPe3iZtn",
        "outputId": "e304f97a-8cf2-42a4-a5b8-e7faf63613e8"
      },
      "execution_count": 61,
      "outputs": [
        {
          "output_type": "execute_result",
          "data": {
            "text/plain": [
              "<matplotlib.legend.Legend at 0x7e5aa8012650>"
            ]
          },
          "metadata": {},
          "execution_count": 61
        },
        {
          "output_type": "display_data",
          "data": {
            "text/plain": [
              "<Figure size 1000x600 with 1 Axes>"
            ],
            "image/png": "[encoded data removed]"
          },
          "metadata": {}
        }
      ]
    },
    {
      "cell_type": "markdown",
      "source": [
        "The x-axis in this chart stands for the \"Smoking\" variable, likely showcasing different categories related to smoking habits. Unfortunately, detailed labels for these categories are unavailable at the moment.\n",
        "\n",
        "As for the y-axis, it displays the frequency of occurrences, illustrating the count of individuals falling into each histogram bin.\n",
        "\n",
        "The output reveals a histogram neatly split into two sets of bars, each corresponding to a distinct value of the \"HeartDisease\" variable—0 representing \"No HeartDisease\" and 1 for \"HeartDisease.\" To enhance visual clarity when bars overlap, the alpha parameter adjusts the transparency of the bars.\n",
        "\n",
        "The blue bars signify individuals without heart disease, while the red bars represent those with heart disease.\n",
        "\n",
        "By setting the bins parameter to 3, the data is organized into three intervals, providing a visual overview of the distribution of smoking habits for both groups.\n",
        "\n",
        "For easier comprehension, the legend positioned in the upper right corner color-codes \"No HeartDisease\" and \"HeartDisease,\" aiding viewers in interpreting the plot."
      ],
      "metadata": {
        "id": "kVxIgER8PSml"
      }
    },
    {
      "cell_type": "code",
      "source": [
        "smoke_and_heart_disease = len(heart_disease_data[(heart_disease_data['HeartDisease']==1) & (heart_disease_data['Smoking']==1)])\n",
        "num_smoke = len(heart_disease_data[heart_disease_data['Smoking'] == 1])\n",
        "no_smoke_and_heart_disease = len(heart_disease_data[(heart_disease_data['HeartDisease']==1) & (heart_disease_data['Smoking']==0)])\n",
        "num_no_smoke = len(heart_disease_data[heart_disease_data['Smoking'] == 0])\n",
        "print('Probability of having heart disease if you smoke:', smoke_and_heart_disease/num_smoke)\n",
        "print(\"Probability of having heart disease if you don't smoke:\", no_smoke_and_heart_disease/num_no_smoke)\n"
      ],
      "metadata": {
        "colab": {
          "base_uri": "https://localhost:8080/"
        },
        "id": "owAJqJ8Nij8P",
        "outputId": "5b9e8ab1-65f3-41ce-ae3b-5b8aa2532780"
      },
      "execution_count": 62,
      "outputs": [
        {
          "output_type": "stream",
          "name": "stdout",
          "text": [
            "Probability of having heart disease if you smoke: 0.12157715983867544\n",
            "Probability of having heart disease if you don't smoke: 0.0603341370078824\n"
          ]
        }
      ]
    },
    {
      "cell_type": "code",
      "source": [
        "fig, ax = plt.subplots(figsize = (14,6))\n",
        "\n",
        "ax.hist(heart_disease_data[heart_disease_data[\"HeartDisease\"]==0][\"Race\"], bins=15, alpha=0.8, color=\"#4285f4\", label=\"No HeartDisease\")\n",
        "ax.hist(heart_disease_data[heart_disease_data[\"HeartDisease\"]== 1][\"Race\"], bins=15, alpha=1, color=\"#ea4335\", label=\"HeartDisease\")\n",
        "\n",
        "ax.set_xlabel(\"Race\")\n",
        "ax.set_ylabel(\"Frequency\")\n",
        "\n",
        "ax.legend(bbox_to_anchor=(1.02, 1), loc=2, borderaxespad=0.)"
      ],
      "metadata": {
        "colab": {
          "base_uri": "https://localhost:8080/",
          "height": 568
        },
        "id": "arm36Ozki0Rz",
        "outputId": "137569f6-6c53-4c16-9d9a-621ece31e368"
      },
      "execution_count": 63,
      "outputs": [
        {
          "output_type": "execute_result",
          "data": {
            "text/plain": [
              "<matplotlib.legend.Legend at 0x7e5aa86022f0>"
            ]
          },
          "metadata": {},
          "execution_count": 63
        },
        {
          "output_type": "display_data",
          "data": {
            "text/plain": [
              "<Figure size 1400x600 with 1 Axes>"
            ],
            "image/png": "[encoded data removed]"
          },
          "metadata": {}
        }
      ]
    },
    {
      "cell_type": "markdown",
      "source": [
        "**X-axis**: The x-axis represents the \"Race\" variable, likely containing different categories associated with racial or ethnic groups.\n",
        "\n",
        "**Y-axis**: The y-axis illustrates the frequency of occurrences, indicating the count of individuals within each bin of the histogram.\n",
        "\n",
        "**Explanation for the outpu**t: The histogram is bifurcated into two distinct sets of bars, each corresponding to a different value of the \"HeartDisease\" variable (0 for \"No HeartDisease\" and 1 for \"HeartDisease\"). The alpha parameter adjusts the transparency of the bars, facilitating a clearer view when bars overlap.\n",
        "\n",
        "Blue bars signify individuals without heart disease, while red bars represent those with heart disease. The bins parameter (set to 15) determines the number of intervals or bins into which the data is segmented along the x-axis, offering a visual representation of the distribution of races or ethnicities within these bins for both groups."
      ],
      "metadata": {
        "id": "WMK4REV3QIGg"
      }
    },
    {
      "cell_type": "code",
      "source": [
        "import matplotlib.pyplot as plt\n",
        "\n",
        "def plot_histogram(ax, data, condition, label, color, bins=3, alpha=1):\n",
        "    ax.hist(data[data[\"HeartDisease\"] == condition][\"KidneyDisease\"], bins=bins, alpha=alpha, color=color, label=label)\n",
        "\n",
        "fig, ax = plt.subplots(figsize=(10, 6))\n",
        "\n",
        "plot_histogram(ax, heart_disease_data, 0, 'No HeartDisease', '#4285f4', alpha=0.8)\n",
        "\n",
        "plot_histogram(ax, heart_disease_data, 1, 'HeartDisease', '#ea4335')\n",
        "\n",
        "ax.set_xlabel(\"KidneyDisease\")\n",
        "ax.set_ylabel(\"Frequency\")\n",
        "\n",
        "ax.legend(bbox_to_anchor=(1.02, 1), loc=2, borderaxespad=0.)\n",
        "\n",
        "plt.show()\n"
      ],
      "metadata": {
        "colab": {
          "base_uri": "https://localhost:8080/",
          "height": 550
        },
        "id": "8T639tnYjLZs",
        "outputId": "32175ef4-4d0a-449d-eb51-b83a8a2a54c1"
      },
      "execution_count": 64,
      "outputs": [
        {
          "output_type": "display_data",
          "data": {
            "text/plain": [
              "<Figure size 1000x600 with 1 Axes>"
            ],
            "image/png": "[encoded data removed]"
          },
          "metadata": {}
        }
      ]
    },
    {
      "cell_type": "markdown",
      "source": [
        "**X-axis**: The x-axis represents the \"KidneyDisease\" variable, suggesting it includes different categories or levels related to kidney health.\n",
        "\n",
        "**Y-axis**: The y-axis illustrates the frequency of occurrences, depicting the count of individuals within each bin of the histogram.\n",
        "\n",
        "**Explanation for the output**: The histogram is designed to display the distribution of the \"KidneyDisease\" variable for two distinct conditions related to heart disease. The \"No HeartDisease\" condition is represented by blue bars, and the \"HeartDisease\" condition is represented by red bars . The alpha parameter controls the transparency of the bars, allowing for clearer visualization when bars overlap.\n",
        "\n",
        "The bins parameter (defaulted to 3) determines the number of intervals or bins into which the data is divided along the x-axis. This histogram provides a visual insight into the distribution of kidney health within the specified bins for both groups."
      ],
      "metadata": {
        "id": "EvkLe96OQ2ns"
      }
    },
    {
      "cell_type": "code",
      "source": [
        "figure, axis = plt.subplots(figsize = (10,6))\n",
        "\n",
        "axis.hist(heart_disease_data[heart_disease_data[\"HeartDisease\"]== 0][\"Stroke\"], bins=3, alpha=0.8, color=\"#4285f4\", label=\"No HeartDisease\")\n",
        "axis.hist(heart_disease_data[heart_disease_data[\"HeartDisease\"]== 1][\"Stroke\"], bins=3, alpha=1, color=\"#ea4335\", label=\"HeartDisease\")\n",
        "\n",
        "axis.set_xlabel(\"Stroke\")\n",
        "axis.set_ylabel(\"Frequency\")\n",
        "\n",
        "axis.legend(bbox_to_anchor=(1.02, 1), loc=2, borderaxespad=0.)"
      ],
      "metadata": {
        "colab": {
          "base_uri": "https://localhost:8080/",
          "height": 568
        },
        "id": "6DEhyjHCjVg_",
        "outputId": "123459d3-400c-4d2d-9b67-a76ecb4adf5a"
      },
      "execution_count": 65,
      "outputs": [
        {
          "output_type": "execute_result",
          "data": {
            "text/plain": [
              "<matplotlib.legend.Legend at 0x7e5aa60bebc0>"
            ]
          },
          "metadata": {},
          "execution_count": 65
        },
        {
          "output_type": "display_data",
          "data": {
            "text/plain": [
              "<Figure size 1000x600 with 1 Axes>"
            ],
            "image/png": "[encoded data removed]"
          },
          "metadata": {}
        }
      ]
    },
    {
      "cell_type": "markdown",
      "source": [
        "### APPLICABILTY"
      ],
      "metadata": {
        "id": "r_AdvK51XjCp"
      }
    },
    {
      "cell_type": "markdown",
      "source": [
        "Empowering heart care through advanced heart data analysis in healthcare addresses a critical need to enhance the diagnosis, treatment, and overall management of cardiovascular conditions. This problem is relevant due to the rising prevalence of heart-related diseases and the potential for data-driven solutions to significantly improve patient outcomes. Here's a brief overview of the problem and its applicability:\n",
        "\n",
        "\n",
        "**Applicability of Advanced Heart Data Analysis:**\n",
        "1. **Early Detection and Prevention:** Advanced data analysis can facilitate the early detection of cardiovascular issues by identifying subtle patterns or anomalies in heart data. Machine learning algorithms can analyze continuous monitoring data from wearables, alerting healthcare providers to potential risks before symptoms manifest.\n",
        "\n",
        "2. **Personalized Treatment Plans:** Tailoring treatment plans to individual patients is crucial for effective heart care. Advanced analytics can integrate diverse data sets, including genetic information, lifestyle factors, and historical health records, to create personalized treatment strategies. This ensures that interventions are not only timely but also aligned with the specific needs of each patient.\n",
        "\n",
        "3. **Remote Patient Monitoring:** Remote monitoring through wearable devices allows for continuous tracking of heart-related metrics. Advanced analytics enable healthcare professionals to remotely assess patient conditions, intervene when necessary, and make data-driven adjustments to treatment plans. This can be especially valuable for patients in rural or underserved areas.\n",
        "\n",
        "4. **Predictive Analytics for Risk Stratification:** Utilizing machine learning models, healthcare providers can employ predictive analytics to stratify patients based on their risk of developing cardiovascular events. This enables proactive management of high-risk individuals, reducing the likelihood of emergencies and improving overall outcomes.\n",
        "\n",
        "5. **Integration of Imaging Data:** Advanced analysis of medical imaging data, such as cardiac MRI or CT scans, can enhance diagnostic accuracy and provide detailed insights into the structure and function of the heart. This can aid in surgical planning, intervention decisions, and post-treatment monitoring.\n",
        "\n",
        "6. **Real-time Decision Support:** Implementing real-time decision support systems powered by advanced analytics can assist healthcare professionals in making informed decisions during emergency situations or routine care. This ensures that the latest data is considered in the decision-making process.\n",
        "\n",
        "7. **Research and Development:** The aggregation and analysis of large-scale heart data sets contribute to ongoing research efforts. Insights gained from this data can fuel the development of new diagnostic tools, treatment modalities, and preventive strategies.\n",
        "\n",
        "In summary, empowering heart care through advanced heart data analysis addresses the need for more precise, personalized, and proactive approaches to managing cardiovascular health. Leveraging cutting-edge technologies in data analytics holds the potential to revolutionize how healthcare professionals diagnose, treat, and prevent heart-related conditions, ultimately improving patient outcomes and reducing the burden of cardiovascular diseases on global healthcare systems."
      ],
      "metadata": {
        "id": "I4dRuVw8ClR2"
      }
    }
  ]
}